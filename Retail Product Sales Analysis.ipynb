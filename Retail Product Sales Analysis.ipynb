{
 "cells": [
  {
   "cell_type": "markdown",
   "id": "3ad85bd0",
   "metadata": {},
   "source": [
    "# Introduction\n",
    "\n",
    "The UCI Machine Learning Repository has made this dataset containing actual transactions from 2010 and 2011. The dataset is maintained on their site, where it can be found by the title \"Online Retail\" found at this link: https://archive.ics.uci.edu/ml/datasets/online+retail\n",
    "\n",
    "This is a transnational data set which contains all the transactions occurring between 01/12/2010 and 09/12/2011 (dd/mm/yyyy) for a UK-based and registered non-store online retail.The company mainly sells unique all-occasion gifts. Many customers of the company are wholesalers.\n",
    "\n",
    "The dataset contains the following information:\n",
    "- InvoiceNo: Invoice number. Nominal, a 6-digit integral number uniquely assigned to each transaction. If this code starts with letter 'c', it indicates a cancellation.\n",
    "- StockCode: Product (item) code. Nominal, a 5-digit integral number uniquely assigned to each distinct product.\n",
    "- Description: Product (item) name. Nominal.\n",
    "- Quantity: The quantities of each product (item) per transaction. Numeric.\n",
    "- InvoiceDate: Invice Date and time. Numeric, the day and time when each transaction was generated.\n",
    "- UnitPrice: Unit price. Numeric, Product price per unit in sterling.\n",
    "- CustomerID: Customer number. Nominal, a 5-digit integral number uniquely assigned to each customer.\n",
    "- Country: Country name. Nominal, the name of the country where each customer resides. "
   ]
  },
  {
   "cell_type": "markdown",
   "id": "5b71e265",
   "metadata": {},
   "source": [
    "### Imports\n"
   ]
  },
  {
   "cell_type": "code",
   "execution_count": 1,
   "id": "0de5b9ba",
   "metadata": {},
   "outputs": [
    {
     "data": {
      "text/html": [
       "        <script type=\"text/javascript\">\n",
       "        window.PlotlyConfig = {MathJaxConfig: 'local'};\n",
       "        if (window.MathJax) {MathJax.Hub.Config({SVG: {font: \"STIX-Web\"}});}\n",
       "        if (typeof require !== 'undefined') {\n",
       "        require.undef(\"plotly\");\n",
       "        requirejs.config({\n",
       "            paths: {\n",
       "                'plotly': ['https://cdn.plot.ly/plotly-latest.min']\n",
       "            }\n",
       "        });\n",
       "        require(['plotly'], function(Plotly) {\n",
       "            window._Plotly = Plotly;\n",
       "        });\n",
       "        }\n",
       "        </script>\n",
       "        "
      ]
     },
     "metadata": {},
     "output_type": "display_data"
    },
    {
     "data": {
      "text/html": [
       "        <script type=\"text/javascript\">\n",
       "        window.PlotlyConfig = {MathJaxConfig: 'local'};\n",
       "        if (window.MathJax) {MathJax.Hub.Config({SVG: {font: \"STIX-Web\"}});}\n",
       "        if (typeof require !== 'undefined') {\n",
       "        require.undef(\"plotly\");\n",
       "        requirejs.config({\n",
       "            paths: {\n",
       "                'plotly': ['https://cdn.plot.ly/plotly-latest.min']\n",
       "            }\n",
       "        });\n",
       "        require(['plotly'], function(Plotly) {\n",
       "            window._Plotly = Plotly;\n",
       "        });\n",
       "        }\n",
       "        </script>\n",
       "        "
      ]
     },
     "metadata": {},
     "output_type": "display_data"
    }
   ],
   "source": [
    "# Data manipulation\n",
    "import pandas as pd\n",
    "import numpy as np\n",
    "\n",
    "# Options for pandas\n",
    "pd.options.display.max_columns = 50\n",
    "pd.options.display.max_rows = 30\n",
    "\n",
    "# Display all cell outputs\n",
    "from IPython.core.interactiveshell import InteractiveShell\n",
    "InteractiveShell.ast_node_interactivity = 'all'\n",
    "\n",
    "from IPython import get_ipython\n",
    "ipython = get_ipython()\n",
    "\n",
    "# autoreload extension\n",
    "if 'autoreload' not in ipython.extension_manager.loaded:\n",
    "    %load_ext autoreload\n",
    "\n",
    "%autoreload 2\n",
    "\n",
    "# Visualizations\n",
    "import matplotlib.pyplot as plt\n",
    "import seaborn as sns\n",
    "%matplotlib inline\n",
    "sns.set_style('darkgrid')\n",
    "import chart_studio.plotly as py\n",
    "import plotly.graph_objs as go\n",
    "from plotly.offline import iplot, init_notebook_mode\n",
    "init_notebook_mode(connected=True)\n",
    "\n",
    "import cufflinks as cf\n",
    "cf.go_offline(connected=True)\n",
    "cf.set_config_file(theme='white')"
   ]
  },
  {
   "cell_type": "markdown",
   "id": "5ab6475a",
   "metadata": {},
   "source": [
    "# Exploratory Data Analysis\n",
    "## Data Cleaning and Feature Engineering\n",
    "Let's start by reading our dataset."
   ]
  },
  {
   "cell_type": "code",
   "execution_count": 2,
   "id": "7df76067",
   "metadata": {},
   "outputs": [
    {
     "data": {
      "text/html": [
       "<div>\n",
       "<style scoped>\n",
       "    .dataframe tbody tr th:only-of-type {\n",
       "        vertical-align: middle;\n",
       "    }\n",
       "\n",
       "    .dataframe tbody tr th {\n",
       "        vertical-align: top;\n",
       "    }\n",
       "\n",
       "    .dataframe thead th {\n",
       "        text-align: right;\n",
       "    }\n",
       "</style>\n",
       "<table border=\"1\" class=\"dataframe\">\n",
       "  <thead>\n",
       "    <tr style=\"text-align: right;\">\n",
       "      <th></th>\n",
       "      <th>InvoiceNo</th>\n",
       "      <th>StockCode</th>\n",
       "      <th>Description</th>\n",
       "      <th>Quantity</th>\n",
       "      <th>InvoiceDate</th>\n",
       "      <th>UnitPrice</th>\n",
       "      <th>CustomerID</th>\n",
       "      <th>Country</th>\n",
       "    </tr>\n",
       "  </thead>\n",
       "  <tbody>\n",
       "    <tr>\n",
       "      <th>0</th>\n",
       "      <td>536365</td>\n",
       "      <td>85123A</td>\n",
       "      <td>WHITE HANGING HEART T-LIGHT HOLDER</td>\n",
       "      <td>6</td>\n",
       "      <td>12/1/2010 8:26</td>\n",
       "      <td>2.55</td>\n",
       "      <td>17850.0</td>\n",
       "      <td>United Kingdom</td>\n",
       "    </tr>\n",
       "    <tr>\n",
       "      <th>1</th>\n",
       "      <td>536365</td>\n",
       "      <td>71053</td>\n",
       "      <td>WHITE METAL LANTERN</td>\n",
       "      <td>6</td>\n",
       "      <td>12/1/2010 8:26</td>\n",
       "      <td>3.39</td>\n",
       "      <td>17850.0</td>\n",
       "      <td>United Kingdom</td>\n",
       "    </tr>\n",
       "    <tr>\n",
       "      <th>2</th>\n",
       "      <td>536365</td>\n",
       "      <td>84406B</td>\n",
       "      <td>CREAM CUPID HEARTS COAT HANGER</td>\n",
       "      <td>8</td>\n",
       "      <td>12/1/2010 8:26</td>\n",
       "      <td>2.75</td>\n",
       "      <td>17850.0</td>\n",
       "      <td>United Kingdom</td>\n",
       "    </tr>\n",
       "    <tr>\n",
       "      <th>3</th>\n",
       "      <td>536365</td>\n",
       "      <td>84029G</td>\n",
       "      <td>KNITTED UNION FLAG HOT WATER BOTTLE</td>\n",
       "      <td>6</td>\n",
       "      <td>12/1/2010 8:26</td>\n",
       "      <td>3.39</td>\n",
       "      <td>17850.0</td>\n",
       "      <td>United Kingdom</td>\n",
       "    </tr>\n",
       "    <tr>\n",
       "      <th>4</th>\n",
       "      <td>536365</td>\n",
       "      <td>84029E</td>\n",
       "      <td>RED WOOLLY HOTTIE WHITE HEART.</td>\n",
       "      <td>6</td>\n",
       "      <td>12/1/2010 8:26</td>\n",
       "      <td>3.39</td>\n",
       "      <td>17850.0</td>\n",
       "      <td>United Kingdom</td>\n",
       "    </tr>\n",
       "  </tbody>\n",
       "</table>\n",
       "</div>"
      ],
      "text/plain": [
       "  InvoiceNo StockCode                          Description  Quantity  \\\n",
       "0    536365    85123A   WHITE HANGING HEART T-LIGHT HOLDER         6   \n",
       "1    536365     71053                  WHITE METAL LANTERN         6   \n",
       "2    536365    84406B       CREAM CUPID HEARTS COAT HANGER         8   \n",
       "3    536365    84029G  KNITTED UNION FLAG HOT WATER BOTTLE         6   \n",
       "4    536365    84029E       RED WOOLLY HOTTIE WHITE HEART.         6   \n",
       "\n",
       "      InvoiceDate  UnitPrice  CustomerID         Country  \n",
       "0  12/1/2010 8:26       2.55     17850.0  United Kingdom  \n",
       "1  12/1/2010 8:26       3.39     17850.0  United Kingdom  \n",
       "2  12/1/2010 8:26       2.75     17850.0  United Kingdom  \n",
       "3  12/1/2010 8:26       3.39     17850.0  United Kingdom  \n",
       "4  12/1/2010 8:26       3.39     17850.0  United Kingdom  "
      ]
     },
     "execution_count": 2,
     "metadata": {},
     "output_type": "execute_result"
    }
   ],
   "source": [
    "df = pd.read_csv(\"./Dataset/ecommerce_data.csv\", encoding = 'ISO-8859-1')\n",
    "df.head()"
   ]
  },
  {
   "cell_type": "code",
   "execution_count": 26,
   "id": "47fac6a4",
   "metadata": {},
   "outputs": [
    {
     "data": {
      "text/plain": [
       "(541909, 8)"
      ]
     },
     "execution_count": 26,
     "metadata": {},
     "output_type": "execute_result"
    }
   ],
   "source": [
    "df.shape"
   ]
  },
  {
   "cell_type": "markdown",
   "id": "6763496a",
   "metadata": {},
   "source": [
    "Our dataset has 8 columns and 541 909 sales records. Let's see if we have any null values!"
   ]
  },
  {
   "cell_type": "code",
   "execution_count": 27,
   "id": "e03bd701",
   "metadata": {},
   "outputs": [
    {
     "data": {
      "text/plain": [
       "InvoiceNo       0.000000\n",
       "StockCode       0.000000\n",
       "Description     0.268311\n",
       "Quantity        0.000000\n",
       "InvoiceDate     0.000000\n",
       "UnitPrice       0.000000\n",
       "CustomerID     24.926694\n",
       "Country         0.000000\n",
       "dtype: float64"
      ]
     },
     "execution_count": 27,
     "metadata": {},
     "output_type": "execute_result"
    }
   ],
   "source": [
    "df.isnull().sum()/len(df)*100"
   ]
  },
  {
   "cell_type": "markdown",
   "id": "27451e56",
   "metadata": {},
   "source": [
    "0.2% of 'Description' data is missing, while a whopping 25% of CustomerID are missing. Let's analyze this further by taking a look at these particular records and see if there are any paterns."
   ]
  },
  {
   "cell_type": "code",
   "execution_count": 28,
   "id": "b79fafaf",
   "metadata": {},
   "outputs": [
    {
     "data": {
      "text/html": [
       "<div>\n",
       "<style scoped>\n",
       "    .dataframe tbody tr th:only-of-type {\n",
       "        vertical-align: middle;\n",
       "    }\n",
       "\n",
       "    .dataframe tbody tr th {\n",
       "        vertical-align: top;\n",
       "    }\n",
       "\n",
       "    .dataframe thead th {\n",
       "        text-align: right;\n",
       "    }\n",
       "</style>\n",
       "<table border=\"1\" class=\"dataframe\">\n",
       "  <thead>\n",
       "    <tr style=\"text-align: right;\">\n",
       "      <th></th>\n",
       "      <th>InvoiceNo</th>\n",
       "      <th>StockCode</th>\n",
       "      <th>Description</th>\n",
       "      <th>Quantity</th>\n",
       "      <th>InvoiceDate</th>\n",
       "      <th>UnitPrice</th>\n",
       "      <th>CustomerID</th>\n",
       "      <th>Country</th>\n",
       "    </tr>\n",
       "  </thead>\n",
       "  <tbody>\n",
       "    <tr>\n",
       "      <th>622</th>\n",
       "      <td>536414</td>\n",
       "      <td>22139</td>\n",
       "      <td>NaN</td>\n",
       "      <td>56</td>\n",
       "      <td>12/1/2010 11:52</td>\n",
       "      <td>0.00</td>\n",
       "      <td>NaN</td>\n",
       "      <td>United Kingdom</td>\n",
       "    </tr>\n",
       "    <tr>\n",
       "      <th>1443</th>\n",
       "      <td>536544</td>\n",
       "      <td>21773</td>\n",
       "      <td>DECORATIVE ROSE BATHROOM BOTTLE</td>\n",
       "      <td>1</td>\n",
       "      <td>12/1/2010 14:32</td>\n",
       "      <td>2.51</td>\n",
       "      <td>NaN</td>\n",
       "      <td>United Kingdom</td>\n",
       "    </tr>\n",
       "    <tr>\n",
       "      <th>1444</th>\n",
       "      <td>536544</td>\n",
       "      <td>21774</td>\n",
       "      <td>DECORATIVE CATS BATHROOM BOTTLE</td>\n",
       "      <td>2</td>\n",
       "      <td>12/1/2010 14:32</td>\n",
       "      <td>2.51</td>\n",
       "      <td>NaN</td>\n",
       "      <td>United Kingdom</td>\n",
       "    </tr>\n",
       "    <tr>\n",
       "      <th>1445</th>\n",
       "      <td>536544</td>\n",
       "      <td>21786</td>\n",
       "      <td>POLKADOT RAIN HAT</td>\n",
       "      <td>4</td>\n",
       "      <td>12/1/2010 14:32</td>\n",
       "      <td>0.85</td>\n",
       "      <td>NaN</td>\n",
       "      <td>United Kingdom</td>\n",
       "    </tr>\n",
       "    <tr>\n",
       "      <th>1446</th>\n",
       "      <td>536544</td>\n",
       "      <td>21787</td>\n",
       "      <td>RAIN PONCHO RETROSPOT</td>\n",
       "      <td>2</td>\n",
       "      <td>12/1/2010 14:32</td>\n",
       "      <td>1.66</td>\n",
       "      <td>NaN</td>\n",
       "      <td>United Kingdom</td>\n",
       "    </tr>\n",
       "  </tbody>\n",
       "</table>\n",
       "</div>"
      ],
      "text/plain": [
       "     InvoiceNo StockCode                      Description  Quantity  \\\n",
       "622     536414     22139                              NaN        56   \n",
       "1443    536544     21773  DECORATIVE ROSE BATHROOM BOTTLE         1   \n",
       "1444    536544     21774  DECORATIVE CATS BATHROOM BOTTLE         2   \n",
       "1445    536544     21786               POLKADOT RAIN HAT          4   \n",
       "1446    536544     21787            RAIN PONCHO RETROSPOT         2   \n",
       "\n",
       "          InvoiceDate  UnitPrice  CustomerID         Country  \n",
       "622   12/1/2010 11:52       0.00         NaN  United Kingdom  \n",
       "1443  12/1/2010 14:32       2.51         NaN  United Kingdom  \n",
       "1444  12/1/2010 14:32       2.51         NaN  United Kingdom  \n",
       "1445  12/1/2010 14:32       0.85         NaN  United Kingdom  \n",
       "1446  12/1/2010 14:32       1.66         NaN  United Kingdom  "
      ]
     },
     "execution_count": 28,
     "metadata": {},
     "output_type": "execute_result"
    }
   ],
   "source": [
    "df[df.isnull().any(axis=1)].head()"
   ]
  },
  {
   "cell_type": "markdown",
   "id": "7e276bca",
   "metadata": {},
   "source": [
    "Since we cannot really impute a customerID, we will just drop the missing values."
   ]
  },
  {
   "cell_type": "code",
   "execution_count": 3,
   "id": "450c2e46",
   "metadata": {},
   "outputs": [
    {
     "data": {
      "text/plain": [
       "InvoiceNo      0\n",
       "StockCode      0\n",
       "Description    0\n",
       "Quantity       0\n",
       "InvoiceDate    0\n",
       "UnitPrice      0\n",
       "CustomerID     0\n",
       "Country        0\n",
       "dtype: int64"
      ]
     },
     "execution_count": 3,
     "metadata": {},
     "output_type": "execute_result"
    }
   ],
   "source": [
    "df_no_missing = df.dropna()\n",
    "df_no_missing.isnull().sum()"
   ]
  },
  {
   "cell_type": "markdown",
   "id": "c56f193c",
   "metadata": {},
   "source": [
    "Now that we have no missing values, let's look at our data types and see if any conversions are needed."
   ]
  },
  {
   "cell_type": "code",
   "execution_count": 30,
   "id": "4d665d43",
   "metadata": {},
   "outputs": [
    {
     "data": {
      "text/plain": [
       "InvoiceNo       object\n",
       "StockCode       object\n",
       "Description     object\n",
       "Quantity         int64\n",
       "InvoiceDate     object\n",
       "UnitPrice      float64\n",
       "CustomerID     float64\n",
       "Country         object\n",
       "dtype: object"
      ]
     },
     "execution_count": 30,
     "metadata": {},
     "output_type": "execute_result"
    }
   ],
   "source": [
    "df_no_missing.dtypes"
   ]
  },
  {
   "cell_type": "markdown",
   "id": "385afaec",
   "metadata": {},
   "source": [
    "We will do the following converstions:\n",
    "- InvoiceDate to datetime object\n",
    "- CustomerID to int64"
   ]
  },
  {
   "cell_type": "code",
   "execution_count": 4,
   "id": "623798af",
   "metadata": {},
   "outputs": [
    {
     "data": {
      "text/plain": [
       "InvoiceNo              object\n",
       "StockCode              object\n",
       "Description            object\n",
       "Quantity                int64\n",
       "InvoiceDate    datetime64[ns]\n",
       "UnitPrice             float64\n",
       "CustomerID              int64\n",
       "Country                object\n",
       "dtype: object"
      ]
     },
     "execution_count": 4,
     "metadata": {},
     "output_type": "execute_result"
    }
   ],
   "source": [
    "df_no_missing['InvoiceDate'] = pd.to_datetime(df_no_missing.InvoiceDate, format='%m/%d/%Y %H:%M')\n",
    "df_no_missing['CustomerID'] = df_no_missing['CustomerID'].astype('int64')\n",
    "\n",
    "df_no_missing.dtypes"
   ]
  },
  {
   "cell_type": "markdown",
   "id": "c63e5806",
   "metadata": {},
   "source": [
    "We can break down the InvoiceDate column into hour ,day, month, year, day of week, week of year and quarter columns."
   ]
  },
  {
   "cell_type": "code",
   "execution_count": 5,
   "id": "2fe92ee7",
   "metadata": {},
   "outputs": [
    {
     "name": "stderr",
     "output_type": "stream",
     "text": [
      "C:\\Users\\Abderraouf\\Anaconda3\\lib\\site-packages\\ipykernel_launcher.py:5: FutureWarning:\n",
      "\n",
      "Series.dt.weekofyear and Series.dt.week have been deprecated.  Please use Series.dt.isocalendar().week instead.\n",
      "\n"
     ]
    }
   ],
   "source": [
    "cols = ['hour','year', 'month', 'day', 'dayofweek', 'dayofyear', 'weekofyear', 'quarter']\n",
    "i=0\n",
    "for col in cols:\n",
    "    names = ['Hour','Year', 'Month', 'Day', 'DayOfWeek', 'DayOfYear', 'WeekOfYear', 'Quarter']\n",
    "    df_no_missing[names[i]] = getattr(df_no_missing['InvoiceDate'].dt,col)\n",
    "    i+=1"
   ]
  },
  {
   "cell_type": "code",
   "execution_count": 33,
   "id": "1e9556e1",
   "metadata": {},
   "outputs": [
    {
     "data": {
      "text/plain": [
       "array([2, 3, 4, 6, 0, 1], dtype=int64)"
      ]
     },
     "execution_count": 33,
     "metadata": {},
     "output_type": "execute_result"
    }
   ],
   "source": [
    "df_no_missing['DayOfWeek'].unique()"
   ]
  },
  {
   "cell_type": "markdown",
   "id": "d4ee29a8",
   "metadata": {},
   "source": [
    "We notice that Monday is represented as 0 in our dataset. Let's increase all these numbers by 1 so that Monday is represented as 1 and Sunday as 7."
   ]
  },
  {
   "cell_type": "code",
   "execution_count": 34,
   "id": "aa1ee6b1",
   "metadata": {},
   "outputs": [],
   "source": [
    "df_no_missing['DayOfWeek'] = df_no_missing['DayOfWeek'] + 1"
   ]
  },
  {
   "cell_type": "markdown",
   "id": "beabb53a",
   "metadata": {},
   "source": [
    "Before we proceed any further into our analysis, let's take a look at the overall statistical data for our numerical features."
   ]
  },
  {
   "cell_type": "code",
   "execution_count": 35,
   "id": "af001d87",
   "metadata": {},
   "outputs": [
    {
     "data": {
      "text/html": [
       "<div>\n",
       "<style scoped>\n",
       "    .dataframe tbody tr th:only-of-type {\n",
       "        vertical-align: middle;\n",
       "    }\n",
       "\n",
       "    .dataframe tbody tr th {\n",
       "        vertical-align: top;\n",
       "    }\n",
       "\n",
       "    .dataframe thead th {\n",
       "        text-align: right;\n",
       "    }\n",
       "</style>\n",
       "<table border=\"1\" class=\"dataframe\">\n",
       "  <thead>\n",
       "    <tr style=\"text-align: right;\">\n",
       "      <th></th>\n",
       "      <th>Quantity</th>\n",
       "      <th>UnitPrice</th>\n",
       "      <th>CustomerID</th>\n",
       "      <th>Hour</th>\n",
       "      <th>Year</th>\n",
       "      <th>Month</th>\n",
       "      <th>Day</th>\n",
       "      <th>DayOfWeek</th>\n",
       "      <th>DayOfYear</th>\n",
       "      <th>WeekOfYear</th>\n",
       "      <th>Quarter</th>\n",
       "    </tr>\n",
       "  </thead>\n",
       "  <tbody>\n",
       "    <tr>\n",
       "      <th>count</th>\n",
       "      <td>406829.000000</td>\n",
       "      <td>406829.000000</td>\n",
       "      <td>406829.000000</td>\n",
       "      <td>406829.000000</td>\n",
       "      <td>406829.000000</td>\n",
       "      <td>406829.000000</td>\n",
       "      <td>406829.000000</td>\n",
       "      <td>406829.000000</td>\n",
       "      <td>406829.000000</td>\n",
       "      <td>406829.000000</td>\n",
       "      <td>406829.000000</td>\n",
       "    </tr>\n",
       "    <tr>\n",
       "      <th>mean</th>\n",
       "      <td>12.061303</td>\n",
       "      <td>3.460471</td>\n",
       "      <td>15287.690570</td>\n",
       "      <td>12.737472</td>\n",
       "      <td>2010.934002</td>\n",
       "      <td>7.605947</td>\n",
       "      <td>15.036128</td>\n",
       "      <td>3.606402</td>\n",
       "      <td>215.225692</td>\n",
       "      <td>30.936184</td>\n",
       "      <td>2.854160</td>\n",
       "    </tr>\n",
       "    <tr>\n",
       "      <th>std</th>\n",
       "      <td>248.693370</td>\n",
       "      <td>69.315162</td>\n",
       "      <td>1713.600303</td>\n",
       "      <td>2.284952</td>\n",
       "      <td>0.248279</td>\n",
       "      <td>3.418942</td>\n",
       "      <td>8.653730</td>\n",
       "      <td>1.921907</td>\n",
       "      <td>103.470584</td>\n",
       "      <td>14.765548</td>\n",
       "      <td>1.122363</td>\n",
       "    </tr>\n",
       "    <tr>\n",
       "      <th>min</th>\n",
       "      <td>-80995.000000</td>\n",
       "      <td>0.000000</td>\n",
       "      <td>12346.000000</td>\n",
       "      <td>6.000000</td>\n",
       "      <td>2010.000000</td>\n",
       "      <td>1.000000</td>\n",
       "      <td>1.000000</td>\n",
       "      <td>1.000000</td>\n",
       "      <td>4.000000</td>\n",
       "      <td>1.000000</td>\n",
       "      <td>1.000000</td>\n",
       "    </tr>\n",
       "    <tr>\n",
       "      <th>25%</th>\n",
       "      <td>2.000000</td>\n",
       "      <td>1.250000</td>\n",
       "      <td>13953.000000</td>\n",
       "      <td>11.000000</td>\n",
       "      <td>2011.000000</td>\n",
       "      <td>5.000000</td>\n",
       "      <td>7.000000</td>\n",
       "      <td>2.000000</td>\n",
       "      <td>130.000000</td>\n",
       "      <td>19.000000</td>\n",
       "      <td>2.000000</td>\n",
       "    </tr>\n",
       "    <tr>\n",
       "      <th>50%</th>\n",
       "      <td>5.000000</td>\n",
       "      <td>1.950000</td>\n",
       "      <td>15152.000000</td>\n",
       "      <td>13.000000</td>\n",
       "      <td>2011.000000</td>\n",
       "      <td>8.000000</td>\n",
       "      <td>15.000000</td>\n",
       "      <td>3.000000</td>\n",
       "      <td>240.000000</td>\n",
       "      <td>34.000000</td>\n",
       "      <td>3.000000</td>\n",
       "    </tr>\n",
       "    <tr>\n",
       "      <th>75%</th>\n",
       "      <td>12.000000</td>\n",
       "      <td>3.750000</td>\n",
       "      <td>16791.000000</td>\n",
       "      <td>14.000000</td>\n",
       "      <td>2011.000000</td>\n",
       "      <td>11.000000</td>\n",
       "      <td>22.000000</td>\n",
       "      <td>5.000000</td>\n",
       "      <td>310.000000</td>\n",
       "      <td>44.000000</td>\n",
       "      <td>4.000000</td>\n",
       "    </tr>\n",
       "    <tr>\n",
       "      <th>max</th>\n",
       "      <td>80995.000000</td>\n",
       "      <td>38970.000000</td>\n",
       "      <td>18287.000000</td>\n",
       "      <td>20.000000</td>\n",
       "      <td>2011.000000</td>\n",
       "      <td>12.000000</td>\n",
       "      <td>31.000000</td>\n",
       "      <td>7.000000</td>\n",
       "      <td>357.000000</td>\n",
       "      <td>51.000000</td>\n",
       "      <td>4.000000</td>\n",
       "    </tr>\n",
       "  </tbody>\n",
       "</table>\n",
       "</div>"
      ],
      "text/plain": [
       "            Quantity      UnitPrice     CustomerID           Hour  \\\n",
       "count  406829.000000  406829.000000  406829.000000  406829.000000   \n",
       "mean       12.061303       3.460471   15287.690570      12.737472   \n",
       "std       248.693370      69.315162    1713.600303       2.284952   \n",
       "min    -80995.000000       0.000000   12346.000000       6.000000   \n",
       "25%         2.000000       1.250000   13953.000000      11.000000   \n",
       "50%         5.000000       1.950000   15152.000000      13.000000   \n",
       "75%        12.000000       3.750000   16791.000000      14.000000   \n",
       "max     80995.000000   38970.000000   18287.000000      20.000000   \n",
       "\n",
       "                Year          Month            Day      DayOfWeek  \\\n",
       "count  406829.000000  406829.000000  406829.000000  406829.000000   \n",
       "mean     2010.934002       7.605947      15.036128       3.606402   \n",
       "std         0.248279       3.418942       8.653730       1.921907   \n",
       "min      2010.000000       1.000000       1.000000       1.000000   \n",
       "25%      2011.000000       5.000000       7.000000       2.000000   \n",
       "50%      2011.000000       8.000000      15.000000       3.000000   \n",
       "75%      2011.000000      11.000000      22.000000       5.000000   \n",
       "max      2011.000000      12.000000      31.000000       7.000000   \n",
       "\n",
       "           DayOfYear     WeekOfYear        Quarter  \n",
       "count  406829.000000  406829.000000  406829.000000  \n",
       "mean      215.225692      30.936184       2.854160  \n",
       "std       103.470584      14.765548       1.122363  \n",
       "min         4.000000       1.000000       1.000000  \n",
       "25%       130.000000      19.000000       2.000000  \n",
       "50%       240.000000      34.000000       3.000000  \n",
       "75%       310.000000      44.000000       4.000000  \n",
       "max       357.000000      51.000000       4.000000  "
      ]
     },
     "execution_count": 35,
     "metadata": {},
     "output_type": "execute_result"
    }
   ],
   "source": [
    "df_no_missing.describe()"
   ]
  },
  {
   "cell_type": "markdown",
   "id": "a4cc49f2",
   "metadata": {},
   "source": [
    "The most peculiar observation that can be made from the table above is that the Quantity column has a minimum of -80995 units. This simply does not make any sense as a shop cannot sell negative units. Let's look at a violin plot to look at the distribution."
   ]
  },
  {
   "cell_type": "code",
   "execution_count": 36,
   "id": "00bdd9d1",
   "metadata": {},
   "outputs": [
    {
     "data": {
      "text/plain": [
       "<matplotlib.axes._subplots.AxesSubplot at 0x164ca56fac8>"
      ]
     },
     "execution_count": 36,
     "metadata": {},
     "output_type": "execute_result"
    },
    {
     "data": {
      "image/png": "[encoded data removed]",
      "text/plain": [
       "<Figure size 432x288 with 1 Axes>"
      ]
     },
     "metadata": {},
     "output_type": "display_data"
    }
   ],
   "source": [
    "sns.violinplot(x='Quantity',data=df_no_missing)"
   ]
  },
  {
   "cell_type": "code",
   "execution_count": null,
   "id": "62c7d721",
   "metadata": {},
   "outputs": [],
   "source": [
    "plotsave = sns.violinplot(x='Quantity',data=df_no_missing)"
   ]
  },
  {
   "cell_type": "markdown",
   "id": "e699de22",
   "metadata": {},
   "source": [
    "We will remove the negative quantities from our dataset"
   ]
  },
  {
   "cell_type": "code",
   "execution_count": 6,
   "id": "da9cf6b3",
   "metadata": {},
   "outputs": [
    {
     "data": {
      "text/plain": [
       "<matplotlib.axes._subplots.AxesSubplot at 0x12adcd0f9c8>"
      ]
     },
     "execution_count": 6,
     "metadata": {},
     "output_type": "execute_result"
    },
    {
     "data": {
      "text/html": [
       "<div>\n",
       "<style scoped>\n",
       "    .dataframe tbody tr th:only-of-type {\n",
       "        vertical-align: middle;\n",
       "    }\n",
       "\n",
       "    .dataframe tbody tr th {\n",
       "        vertical-align: top;\n",
       "    }\n",
       "\n",
       "    .dataframe thead th {\n",
       "        text-align: right;\n",
       "    }\n",
       "</style>\n",
       "<table border=\"1\" class=\"dataframe\">\n",
       "  <thead>\n",
       "    <tr style=\"text-align: right;\">\n",
       "      <th></th>\n",
       "      <th>Quantity</th>\n",
       "      <th>UnitPrice</th>\n",
       "      <th>CustomerID</th>\n",
       "      <th>Hour</th>\n",
       "      <th>Year</th>\n",
       "      <th>Month</th>\n",
       "      <th>Day</th>\n",
       "      <th>DayOfWeek</th>\n",
       "      <th>DayOfYear</th>\n",
       "      <th>WeekOfYear</th>\n",
       "      <th>Quarter</th>\n",
       "    </tr>\n",
       "  </thead>\n",
       "  <tbody>\n",
       "    <tr>\n",
       "      <th>count</th>\n",
       "      <td>397924.000000</td>\n",
       "      <td>397924.000000</td>\n",
       "      <td>397924.000000</td>\n",
       "      <td>397924.000000</td>\n",
       "      <td>397924.000000</td>\n",
       "      <td>397924.000000</td>\n",
       "      <td>397924.000000</td>\n",
       "      <td>397924.000000</td>\n",
       "      <td>397924.000000</td>\n",
       "      <td>397924.000000</td>\n",
       "      <td>397924.000000</td>\n",
       "    </tr>\n",
       "    <tr>\n",
       "      <th>mean</th>\n",
       "      <td>13.021823</td>\n",
       "      <td>3.116174</td>\n",
       "      <td>15294.315171</td>\n",
       "      <td>12.728247</td>\n",
       "      <td>2010.934259</td>\n",
       "      <td>7.612537</td>\n",
       "      <td>15.042181</td>\n",
       "      <td>2.614555</td>\n",
       "      <td>215.432698</td>\n",
       "      <td>30.964629</td>\n",
       "      <td>2.856106</td>\n",
       "    </tr>\n",
       "    <tr>\n",
       "      <th>std</th>\n",
       "      <td>180.420210</td>\n",
       "      <td>22.096788</td>\n",
       "      <td>1713.169877</td>\n",
       "      <td>2.273535</td>\n",
       "      <td>0.247829</td>\n",
       "      <td>3.416527</td>\n",
       "      <td>8.653771</td>\n",
       "      <td>1.928274</td>\n",
       "      <td>103.403711</td>\n",
       "      <td>14.755880</td>\n",
       "      <td>1.121873</td>\n",
       "    </tr>\n",
       "    <tr>\n",
       "      <th>min</th>\n",
       "      <td>1.000000</td>\n",
       "      <td>0.000000</td>\n",
       "      <td>12346.000000</td>\n",
       "      <td>6.000000</td>\n",
       "      <td>2010.000000</td>\n",
       "      <td>1.000000</td>\n",
       "      <td>1.000000</td>\n",
       "      <td>0.000000</td>\n",
       "      <td>4.000000</td>\n",
       "      <td>1.000000</td>\n",
       "      <td>1.000000</td>\n",
       "    </tr>\n",
       "    <tr>\n",
       "      <th>25%</th>\n",
       "      <td>2.000000</td>\n",
       "      <td>1.250000</td>\n",
       "      <td>13969.000000</td>\n",
       "      <td>11.000000</td>\n",
       "      <td>2011.000000</td>\n",
       "      <td>5.000000</td>\n",
       "      <td>7.000000</td>\n",
       "      <td>1.000000</td>\n",
       "      <td>130.000000</td>\n",
       "      <td>19.000000</td>\n",
       "      <td>2.000000</td>\n",
       "    </tr>\n",
       "    <tr>\n",
       "      <th>50%</th>\n",
       "      <td>6.000000</td>\n",
       "      <td>1.950000</td>\n",
       "      <td>15159.000000</td>\n",
       "      <td>13.000000</td>\n",
       "      <td>2011.000000</td>\n",
       "      <td>8.000000</td>\n",
       "      <td>15.000000</td>\n",
       "      <td>2.000000</td>\n",
       "      <td>240.000000</td>\n",
       "      <td>34.000000</td>\n",
       "      <td>3.000000</td>\n",
       "    </tr>\n",
       "    <tr>\n",
       "      <th>75%</th>\n",
       "      <td>12.000000</td>\n",
       "      <td>3.750000</td>\n",
       "      <td>16795.000000</td>\n",
       "      <td>14.000000</td>\n",
       "      <td>2011.000000</td>\n",
       "      <td>11.000000</td>\n",
       "      <td>22.000000</td>\n",
       "      <td>4.000000</td>\n",
       "      <td>310.000000</td>\n",
       "      <td>44.000000</td>\n",
       "      <td>4.000000</td>\n",
       "    </tr>\n",
       "    <tr>\n",
       "      <th>max</th>\n",
       "      <td>80995.000000</td>\n",
       "      <td>8142.750000</td>\n",
       "      <td>18287.000000</td>\n",
       "      <td>20.000000</td>\n",
       "      <td>2011.000000</td>\n",
       "      <td>12.000000</td>\n",
       "      <td>31.000000</td>\n",
       "      <td>6.000000</td>\n",
       "      <td>357.000000</td>\n",
       "      <td>51.000000</td>\n",
       "      <td>4.000000</td>\n",
       "    </tr>\n",
       "  </tbody>\n",
       "</table>\n",
       "</div>"
      ],
      "text/plain": [
       "            Quantity      UnitPrice     CustomerID           Hour  \\\n",
       "count  397924.000000  397924.000000  397924.000000  397924.000000   \n",
       "mean       13.021823       3.116174   15294.315171      12.728247   \n",
       "std       180.420210      22.096788    1713.169877       2.273535   \n",
       "min         1.000000       0.000000   12346.000000       6.000000   \n",
       "25%         2.000000       1.250000   13969.000000      11.000000   \n",
       "50%         6.000000       1.950000   15159.000000      13.000000   \n",
       "75%        12.000000       3.750000   16795.000000      14.000000   \n",
       "max     80995.000000    8142.750000   18287.000000      20.000000   \n",
       "\n",
       "                Year          Month            Day      DayOfWeek  \\\n",
       "count  397924.000000  397924.000000  397924.000000  397924.000000   \n",
       "mean     2010.934259       7.612537      15.042181       2.614555   \n",
       "std         0.247829       3.416527       8.653771       1.928274   \n",
       "min      2010.000000       1.000000       1.000000       0.000000   \n",
       "25%      2011.000000       5.000000       7.000000       1.000000   \n",
       "50%      2011.000000       8.000000      15.000000       2.000000   \n",
       "75%      2011.000000      11.000000      22.000000       4.000000   \n",
       "max      2011.000000      12.000000      31.000000       6.000000   \n",
       "\n",
       "           DayOfYear     WeekOfYear        Quarter  \n",
       "count  397924.000000  397924.000000  397924.000000  \n",
       "mean      215.432698      30.964629       2.856106  \n",
       "std       103.403711      14.755880       1.121873  \n",
       "min         4.000000       1.000000       1.000000  \n",
       "25%       130.000000      19.000000       2.000000  \n",
       "50%       240.000000      34.000000       3.000000  \n",
       "75%       310.000000      44.000000       4.000000  \n",
       "max       357.000000      51.000000       4.000000  "
      ]
     },
     "execution_count": 6,
     "metadata": {},
     "output_type": "execute_result"
    },
    {
     "data": {
      "image/png": "[encoded data removed]",
      "text/plain": [
       "<Figure size 432x288 with 1 Axes>"
      ]
     },
     "metadata": {},
     "output_type": "display_data"
    }
   ],
   "source": [
    "df_no_missing = df_no_missing[df_no_missing['Quantity'] > 0 ]\n",
    "sns.violinplot(x='Quantity',data=df_no_missing)\n",
    "df_no_missing.describe()"
   ]
  },
  {
   "cell_type": "markdown",
   "id": "e5237628",
   "metadata": {},
   "source": [
    "The statistical data for Quantity now makes sense, with a minimum of 1. We can also add an amount spent column to capture amount of money spent on a product and its quantity."
   ]
  },
  {
   "cell_type": "code",
   "execution_count": 7,
   "id": "257de25a",
   "metadata": {},
   "outputs": [
    {
     "data": {
      "text/html": [
       "<div>\n",
       "<style scoped>\n",
       "    .dataframe tbody tr th:only-of-type {\n",
       "        vertical-align: middle;\n",
       "    }\n",
       "\n",
       "    .dataframe tbody tr th {\n",
       "        vertical-align: top;\n",
       "    }\n",
       "\n",
       "    .dataframe thead th {\n",
       "        text-align: right;\n",
       "    }\n",
       "</style>\n",
       "<table border=\"1\" class=\"dataframe\">\n",
       "  <thead>\n",
       "    <tr style=\"text-align: right;\">\n",
       "      <th></th>\n",
       "      <th>InvoiceNo</th>\n",
       "      <th>StockCode</th>\n",
       "      <th>Description</th>\n",
       "      <th>Quantity</th>\n",
       "      <th>InvoiceDate</th>\n",
       "      <th>UnitPrice</th>\n",
       "      <th>CustomerID</th>\n",
       "      <th>Country</th>\n",
       "      <th>Hour</th>\n",
       "      <th>Year</th>\n",
       "      <th>Month</th>\n",
       "      <th>Day</th>\n",
       "      <th>DayOfWeek</th>\n",
       "      <th>DayOfYear</th>\n",
       "      <th>WeekOfYear</th>\n",
       "      <th>Quarter</th>\n",
       "      <th>AmountSpent</th>\n",
       "    </tr>\n",
       "  </thead>\n",
       "  <tbody>\n",
       "    <tr>\n",
       "      <th>0</th>\n",
       "      <td>536365</td>\n",
       "      <td>85123A</td>\n",
       "      <td>WHITE HANGING HEART T-LIGHT HOLDER</td>\n",
       "      <td>6</td>\n",
       "      <td>2010-12-01 08:26:00</td>\n",
       "      <td>2.55</td>\n",
       "      <td>17850</td>\n",
       "      <td>United Kingdom</td>\n",
       "      <td>8</td>\n",
       "      <td>2010</td>\n",
       "      <td>12</td>\n",
       "      <td>1</td>\n",
       "      <td>2</td>\n",
       "      <td>335</td>\n",
       "      <td>48</td>\n",
       "      <td>4</td>\n",
       "      <td>15.30</td>\n",
       "    </tr>\n",
       "    <tr>\n",
       "      <th>1</th>\n",
       "      <td>536365</td>\n",
       "      <td>71053</td>\n",
       "      <td>WHITE METAL LANTERN</td>\n",
       "      <td>6</td>\n",
       "      <td>2010-12-01 08:26:00</td>\n",
       "      <td>3.39</td>\n",
       "      <td>17850</td>\n",
       "      <td>United Kingdom</td>\n",
       "      <td>8</td>\n",
       "      <td>2010</td>\n",
       "      <td>12</td>\n",
       "      <td>1</td>\n",
       "      <td>2</td>\n",
       "      <td>335</td>\n",
       "      <td>48</td>\n",
       "      <td>4</td>\n",
       "      <td>20.34</td>\n",
       "    </tr>\n",
       "    <tr>\n",
       "      <th>2</th>\n",
       "      <td>536365</td>\n",
       "      <td>84406B</td>\n",
       "      <td>CREAM CUPID HEARTS COAT HANGER</td>\n",
       "      <td>8</td>\n",
       "      <td>2010-12-01 08:26:00</td>\n",
       "      <td>2.75</td>\n",
       "      <td>17850</td>\n",
       "      <td>United Kingdom</td>\n",
       "      <td>8</td>\n",
       "      <td>2010</td>\n",
       "      <td>12</td>\n",
       "      <td>1</td>\n",
       "      <td>2</td>\n",
       "      <td>335</td>\n",
       "      <td>48</td>\n",
       "      <td>4</td>\n",
       "      <td>22.00</td>\n",
       "    </tr>\n",
       "    <tr>\n",
       "      <th>3</th>\n",
       "      <td>536365</td>\n",
       "      <td>84029G</td>\n",
       "      <td>KNITTED UNION FLAG HOT WATER BOTTLE</td>\n",
       "      <td>6</td>\n",
       "      <td>2010-12-01 08:26:00</td>\n",
       "      <td>3.39</td>\n",
       "      <td>17850</td>\n",
       "      <td>United Kingdom</td>\n",
       "      <td>8</td>\n",
       "      <td>2010</td>\n",
       "      <td>12</td>\n",
       "      <td>1</td>\n",
       "      <td>2</td>\n",
       "      <td>335</td>\n",
       "      <td>48</td>\n",
       "      <td>4</td>\n",
       "      <td>20.34</td>\n",
       "    </tr>\n",
       "    <tr>\n",
       "      <th>4</th>\n",
       "      <td>536365</td>\n",
       "      <td>84029E</td>\n",
       "      <td>RED WOOLLY HOTTIE WHITE HEART.</td>\n",
       "      <td>6</td>\n",
       "      <td>2010-12-01 08:26:00</td>\n",
       "      <td>3.39</td>\n",
       "      <td>17850</td>\n",
       "      <td>United Kingdom</td>\n",
       "      <td>8</td>\n",
       "      <td>2010</td>\n",
       "      <td>12</td>\n",
       "      <td>1</td>\n",
       "      <td>2</td>\n",
       "      <td>335</td>\n",
       "      <td>48</td>\n",
       "      <td>4</td>\n",
       "      <td>20.34</td>\n",
       "    </tr>\n",
       "  </tbody>\n",
       "</table>\n",
       "</div>"
      ],
      "text/plain": [
       "  InvoiceNo StockCode                          Description  Quantity  \\\n",
       "0    536365    85123A   WHITE HANGING HEART T-LIGHT HOLDER         6   \n",
       "1    536365     71053                  WHITE METAL LANTERN         6   \n",
       "2    536365    84406B       CREAM CUPID HEARTS COAT HANGER         8   \n",
       "3    536365    84029G  KNITTED UNION FLAG HOT WATER BOTTLE         6   \n",
       "4    536365    84029E       RED WOOLLY HOTTIE WHITE HEART.         6   \n",
       "\n",
       "          InvoiceDate  UnitPrice  CustomerID         Country  Hour  Year  \\\n",
       "0 2010-12-01 08:26:00       2.55       17850  United Kingdom     8  2010   \n",
       "1 2010-12-01 08:26:00       3.39       17850  United Kingdom     8  2010   \n",
       "2 2010-12-01 08:26:00       2.75       17850  United Kingdom     8  2010   \n",
       "3 2010-12-01 08:26:00       3.39       17850  United Kingdom     8  2010   \n",
       "4 2010-12-01 08:26:00       3.39       17850  United Kingdom     8  2010   \n",
       "\n",
       "   Month  Day  DayOfWeek  DayOfYear  WeekOfYear  Quarter  AmountSpent  \n",
       "0     12    1          2        335          48        4        15.30  \n",
       "1     12    1          2        335          48        4        20.34  \n",
       "2     12    1          2        335          48        4        22.00  \n",
       "3     12    1          2        335          48        4        20.34  \n",
       "4     12    1          2        335          48        4        20.34  "
      ]
     },
     "execution_count": 7,
     "metadata": {},
     "output_type": "execute_result"
    }
   ],
   "source": [
    "df_no_missing['AmountSpent'] = df_no_missing['Quantity'] * df_no_missing['UnitPrice']\n",
    "df_no_missing.head()"
   ]
  },
  {
   "cell_type": "markdown",
   "id": "006fc6a1",
   "metadata": {},
   "source": [
    "## Purchases by Customer and Country\n",
    "\n",
    "Let's start by getting the number of sales per customer for each country. We will count the number of invoices made by each customer to find the number of sales."
   ]
  },
  {
   "cell_type": "code",
   "execution_count": 43,
   "id": "b74bc33b",
   "metadata": {},
   "outputs": [
    {
     "data": {
      "text/html": [
       "<div>\n",
       "<style scoped>\n",
       "    .dataframe tbody tr th:only-of-type {\n",
       "        vertical-align: middle;\n",
       "    }\n",
       "\n",
       "    .dataframe tbody tr th {\n",
       "        vertical-align: top;\n",
       "    }\n",
       "\n",
       "    .dataframe thead th {\n",
       "        text-align: right;\n",
       "    }\n",
       "</style>\n",
       "<table border=\"1\" class=\"dataframe\">\n",
       "  <thead>\n",
       "    <tr style=\"text-align: right;\">\n",
       "      <th></th>\n",
       "      <th>CustomerID</th>\n",
       "      <th>Country</th>\n",
       "      <th>NumberOfSales</th>\n",
       "    </tr>\n",
       "  </thead>\n",
       "  <tbody>\n",
       "    <tr>\n",
       "      <th>4019</th>\n",
       "      <td>17841</td>\n",
       "      <td>United Kingdom</td>\n",
       "      <td>7847</td>\n",
       "    </tr>\n",
       "    <tr>\n",
       "      <th>1888</th>\n",
       "      <td>14911</td>\n",
       "      <td>EIRE</td>\n",
       "      <td>5677</td>\n",
       "    </tr>\n",
       "    <tr>\n",
       "      <th>1298</th>\n",
       "      <td>14096</td>\n",
       "      <td>United Kingdom</td>\n",
       "      <td>5111</td>\n",
       "    </tr>\n",
       "    <tr>\n",
       "      <th>334</th>\n",
       "      <td>12748</td>\n",
       "      <td>United Kingdom</td>\n",
       "      <td>4596</td>\n",
       "    </tr>\n",
       "    <tr>\n",
       "      <th>1670</th>\n",
       "      <td>14606</td>\n",
       "      <td>United Kingdom</td>\n",
       "      <td>2700</td>\n",
       "    </tr>\n",
       "    <tr>\n",
       "      <th>2185</th>\n",
       "      <td>15311</td>\n",
       "      <td>United Kingdom</td>\n",
       "      <td>2379</td>\n",
       "    </tr>\n",
       "    <tr>\n",
       "      <th>1698</th>\n",
       "      <td>14646</td>\n",
       "      <td>Netherlands</td>\n",
       "      <td>2080</td>\n",
       "    </tr>\n",
       "    <tr>\n",
       "      <th>570</th>\n",
       "      <td>13089</td>\n",
       "      <td>United Kingdom</td>\n",
       "      <td>1818</td>\n",
       "    </tr>\n",
       "    <tr>\n",
       "      <th>699</th>\n",
       "      <td>13263</td>\n",
       "      <td>United Kingdom</td>\n",
       "      <td>1677</td>\n",
       "    </tr>\n",
       "    <tr>\n",
       "      <th>1443</th>\n",
       "      <td>14298</td>\n",
       "      <td>United Kingdom</td>\n",
       "      <td>1637</td>\n",
       "    </tr>\n",
       "  </tbody>\n",
       "</table>\n",
       "</div>"
      ],
      "text/plain": [
       "      CustomerID         Country  NumberOfSales\n",
       "4019       17841  United Kingdom           7847\n",
       "1888       14911            EIRE           5677\n",
       "1298       14096  United Kingdom           5111\n",
       "334        12748  United Kingdom           4596\n",
       "1670       14606  United Kingdom           2700\n",
       "2185       15311  United Kingdom           2379\n",
       "1698       14646     Netherlands           2080\n",
       "570        13089  United Kingdom           1818\n",
       "699        13263  United Kingdom           1677\n",
       "1443       14298  United Kingdom           1637"
      ]
     },
     "execution_count": 43,
     "metadata": {},
     "output_type": "execute_result"
    }
   ],
   "source": [
    "sales_per_cust = df_no_missing.groupby(by=['CustomerID','Country'], as_index=False)['InvoiceNo'].count().sort_values(by='InvoiceNo', ascending=False)\n",
    "sales_per_cust.columns = ['CustomerID', 'Country', \"NumberOfSales\"]\n",
    "sales_per_cust.head(10)"
   ]
  },
  {
   "cell_type": "markdown",
   "id": "e8972a9c",
   "metadata": {},
   "source": [
    "We can see, from  high level, that alot of customers with lots of sales are in the UK. Please note that EIRE is the Irish name for Ireland. We cn visualize the number of orders for each customerID."
   ]
  },
  {
   "cell_type": "code",
   "execution_count": 44,
   "id": "dee16c50",
   "metadata": {},
   "outputs": [
    {
     "data": {
      "text/plain": [
       "(<Figure size 1080x432 with 1 Axes>,\n",
       " <matplotlib.axes._subplots.AxesSubplot at 0x164d53bed48>)"
      ]
     },
     "execution_count": 44,
     "metadata": {},
     "output_type": "execute_result"
    },
    {
     "data": {
      "text/plain": [
       "[<matplotlib.lines.Line2D at 0x164c9508088>]"
      ]
     },
     "execution_count": 44,
     "metadata": {},
     "output_type": "execute_result"
    },
    {
     "data": {
      "text/plain": [
       "Text(0.5, 0, 'Customers ID')"
      ]
     },
     "execution_count": 44,
     "metadata": {},
     "output_type": "execute_result"
    },
    {
     "data": {
      "text/plain": [
       "Text(0, 0.5, 'Number of Orders')"
      ]
     },
     "execution_count": 44,
     "metadata": {},
     "output_type": "execute_result"
    },
    {
     "data": {
      "text/plain": [
       "Text(0.5, 1.0, 'Number of Orders for different Customers')"
      ]
     },
     "execution_count": 44,
     "metadata": {},
     "output_type": "execute_result"
    },
    {
     "data": {
      "image/png": "[encoded data removed]",
      "text/plain": [
       "<Figure size 1080x432 with 1 Axes>"
      ]
     },
     "metadata": {},
     "output_type": "display_data"
    }
   ],
   "source": [
    "orders = df_no_missing.groupby('CustomerID', as_index=False)['InvoiceNo'].count()\n",
    "\n",
    "plt.subplots(figsize=(15,6))\n",
    "plt.plot(orders.CustomerID, orders.InvoiceNo)\n",
    "plt.xlabel('Customers ID')\n",
    "plt.ylabel('Number of Orders')\n",
    "plt.title('Number of Orders for different Customers')"
   ]
  },
  {
   "cell_type": "markdown",
   "id": "e57c4e52",
   "metadata": {},
   "source": [
    "As we can see, threare a handful of customers that above 2000 purchases with the company, the majority being under 1000 purchases during the one year time period. However, making lots of purchases doesn't necessarily equate to spending the most money. The chart below will show the amount spent per customer ID."
   ]
  },
  {
   "cell_type": "code",
   "execution_count": 45,
   "id": "94609b3b",
   "metadata": {},
   "outputs": [
    {
     "data": {
      "text/plain": [
       "(<Figure size 1080x432 with 1 Axes>,\n",
       " <matplotlib.axes._subplots.AxesSubplot at 0x164c9873848>)"
      ]
     },
     "execution_count": 45,
     "metadata": {},
     "output_type": "execute_result"
    },
    {
     "data": {
      "text/plain": [
       "[<matplotlib.lines.Line2D at 0x164d13ff7c8>]"
      ]
     },
     "execution_count": 45,
     "metadata": {},
     "output_type": "execute_result"
    },
    {
     "data": {
      "text/plain": [
       "Text(0.5, 0, 'Customers ID')"
      ]
     },
     "execution_count": 45,
     "metadata": {},
     "output_type": "execute_result"
    },
    {
     "data": {
      "text/plain": [
       "Text(0, 0.5, 'Money Spent ($)')"
      ]
     },
     "execution_count": 45,
     "metadata": {},
     "output_type": "execute_result"
    },
    {
     "data": {
      "text/plain": [
       "Text(0.5, 1.0, 'Money Spent for different Customers')"
      ]
     },
     "execution_count": 45,
     "metadata": {},
     "output_type": "execute_result"
    },
    {
     "data": {
      "image/png": "[encoded data removed]",
      "text/plain": [
       "<Figure size 1080x432 with 1 Axes>"
      ]
     },
     "metadata": {},
     "output_type": "display_data"
    }
   ],
   "source": [
    "money_spent = df_no_missing.groupby(['CustomerID','Country'], as_index=False)['AmountSpent'].sum()\n",
    "\n",
    "plt.subplots(figsize=(15,6))\n",
    "plt.plot(money_spent.CustomerID, money_spent.AmountSpent)\n",
    "plt.xlabel('Customers ID')\n",
    "plt.ylabel('Money Spent ($)')\n",
    "plt.title('Money Spent for different Customers')"
   ]
  },
  {
   "cell_type": "code",
   "execution_count": 46,
   "id": "b1b2a75b",
   "metadata": {},
   "outputs": [
    {
     "data": {
      "text/html": [
       "<div>\n",
       "<style scoped>\n",
       "    .dataframe tbody tr th:only-of-type {\n",
       "        vertical-align: middle;\n",
       "    }\n",
       "\n",
       "    .dataframe tbody tr th {\n",
       "        vertical-align: top;\n",
       "    }\n",
       "\n",
       "    .dataframe thead th {\n",
       "        text-align: right;\n",
       "    }\n",
       "</style>\n",
       "<table border=\"1\" class=\"dataframe\">\n",
       "  <thead>\n",
       "    <tr style=\"text-align: right;\">\n",
       "      <th></th>\n",
       "      <th>CustomerID</th>\n",
       "      <th>Country</th>\n",
       "      <th>TotalSpent</th>\n",
       "    </tr>\n",
       "  </thead>\n",
       "  <tbody>\n",
       "    <tr>\n",
       "      <th>1698</th>\n",
       "      <td>14646</td>\n",
       "      <td>Netherlands</td>\n",
       "      <td>280206.02</td>\n",
       "    </tr>\n",
       "    <tr>\n",
       "      <th>4210</th>\n",
       "      <td>18102</td>\n",
       "      <td>United Kingdom</td>\n",
       "      <td>259657.30</td>\n",
       "    </tr>\n",
       "    <tr>\n",
       "      <th>3737</th>\n",
       "      <td>17450</td>\n",
       "      <td>United Kingdom</td>\n",
       "      <td>194550.79</td>\n",
       "    </tr>\n",
       "    <tr>\n",
       "      <th>3017</th>\n",
       "      <td>16446</td>\n",
       "      <td>United Kingdom</td>\n",
       "      <td>168472.50</td>\n",
       "    </tr>\n",
       "    <tr>\n",
       "      <th>1888</th>\n",
       "      <td>14911</td>\n",
       "      <td>EIRE</td>\n",
       "      <td>143825.06</td>\n",
       "    </tr>\n",
       "    <tr>\n",
       "      <th>57</th>\n",
       "      <td>12415</td>\n",
       "      <td>Australia</td>\n",
       "      <td>124914.53</td>\n",
       "    </tr>\n",
       "    <tr>\n",
       "      <th>1342</th>\n",
       "      <td>14156</td>\n",
       "      <td>EIRE</td>\n",
       "      <td>117379.63</td>\n",
       "    </tr>\n",
       "    <tr>\n",
       "      <th>3780</th>\n",
       "      <td>17511</td>\n",
       "      <td>United Kingdom</td>\n",
       "      <td>91062.38</td>\n",
       "    </tr>\n",
       "    <tr>\n",
       "      <th>2711</th>\n",
       "      <td>16029</td>\n",
       "      <td>United Kingdom</td>\n",
       "      <td>81024.84</td>\n",
       "    </tr>\n",
       "    <tr>\n",
       "      <th>0</th>\n",
       "      <td>12346</td>\n",
       "      <td>United Kingdom</td>\n",
       "      <td>77183.60</td>\n",
       "    </tr>\n",
       "  </tbody>\n",
       "</table>\n",
       "</div>"
      ],
      "text/plain": [
       "      CustomerID         Country  TotalSpent\n",
       "1698       14646     Netherlands   280206.02\n",
       "4210       18102  United Kingdom   259657.30\n",
       "3737       17450  United Kingdom   194550.79\n",
       "3017       16446  United Kingdom   168472.50\n",
       "1888       14911            EIRE   143825.06\n",
       "57         12415       Australia   124914.53\n",
       "1342       14156            EIRE   117379.63\n",
       "3780       17511  United Kingdom    91062.38\n",
       "2711       16029  United Kingdom    81024.84\n",
       "0          12346  United Kingdom    77183.60"
      ]
     },
     "execution_count": 46,
     "metadata": {},
     "output_type": "execute_result"
    }
   ],
   "source": [
    "spent_per_cust = df_no_missing.groupby(by=['CustomerID','Country'], as_index=False)['AmountSpent'].sum().sort_values(by='AmountSpent', ascending=False)\n",
    "spent_per_cust.columns = ['CustomerID', 'Country', \"TotalSpent\"]\n",
    "spent_per_cust.head(10)"
   ]
  },
  {
   "cell_type": "markdown",
   "id": "5da98f81",
   "metadata": {},
   "source": [
    "As we can see from the table above, CustomerID 14646 spent the most amount of money in our store even though he has less invoices than CustomerID 17481, who has the most invoices but does not appear in top 10 most amount spent.\n",
    "\n",
    "## Purchasing Patterns\n",
    "\n",
    "Let's take a look at when purchases are made to figure out when is the best time period to attract more customers (we can cater sales and promotions during this timeframe)! We will extract the best:\n",
    "- Day of the week\n",
    "- Time of the day\n",
    "- Months\n",
    "\n",
    "Note that the timeline for our dataset is from Dec 2010 to Dec 2011. We need a column that can capture the two different December months. We will create a 'MonthYear' column for this purpose."
   ]
  },
  {
   "cell_type": "code",
   "execution_count": 49,
   "id": "5606c88f",
   "metadata": {},
   "outputs": [],
   "source": [
    "df_no_missing['YearMonth'] = df_no_missing['InvoiceDate'].apply(lambda x: str(x.year) + '-' + str(x.month))"
   ]
  },
  {
   "cell_type": "markdown",
   "id": "d2558e9f",
   "metadata": {},
   "source": [
    "Let'look at the sales per month."
   ]
  },
  {
   "cell_type": "code",
   "execution_count": 54,
   "id": "5af96b36",
   "metadata": {},
   "outputs": [
    {
     "data": {
      "text/plain": [
       "Text(0.5, 0, 'Month')"
      ]
     },
     "execution_count": 54,
     "metadata": {},
     "output_type": "execute_result"
    },
    {
     "data": {
      "text/plain": [
       "Text(0, 0.5, 'Number of Orders')"
      ]
     },
     "execution_count": 54,
     "metadata": {},
     "output_type": "execute_result"
    },
    {
     "data": {
      "text/plain": [
       "Text(0.5, 1.0, 'Number of orders per Month (1st Dec 2010 - 9th Dec 2011)')"
      ]
     },
     "execution_count": 54,
     "metadata": {},
     "output_type": "execute_result"
    },
    {
     "data": {
      "text/plain": [
       "[Text(0, 0, 'Dec_10'),\n",
       " Text(0, 0, 'Jan_11'),\n",
       " Text(0, 0, 'Feb_11'),\n",
       " Text(0, 0, 'Mar_11'),\n",
       " Text(0, 0, 'Apr_11'),\n",
       " Text(0, 0, 'May_11'),\n",
       " Text(0, 0, 'Jun_11'),\n",
       " Text(0, 0, 'July_11'),\n",
       " Text(0, 0, 'Aug_11'),\n",
       " Text(0, 0, 'Sep_11'),\n",
       " Text(0, 0, 'Oct_11'),\n",
       " Text(0, 0, 'Nov_11'),\n",
       " Text(0, 0, 'Dec_11')]"
      ]
     },
     "execution_count": 54,
     "metadata": {},
     "output_type": "execute_result"
    },
    {
     "data": {
      "image/png": "[encoded data removed]",
      "text/plain": [
       "<Figure size 1080x432 with 1 Axes>"
      ]
     },
     "metadata": {},
     "output_type": "display_data"
    }
   ],
   "source": [
    "ax = df_no_missing.groupby('InvoiceNo')['YearMonth'].unique().value_counts().sort_index().plot(kind='bar',figsize=(15,6))\n",
    "ax.set_xlabel('Month',fontsize=15)\n",
    "ax.set_ylabel('Number of Orders',fontsize=15)\n",
    "ax.set_title('Number of orders per Month (1st Dec 2010 - 9th Dec 2011)',fontsize=15)\n",
    "ax.set_xticklabels(('Dec_10','Jan_11','Feb_11','Mar_11','Apr_11','May_11','Jun_11','July_11','Aug_11','Sep_11','Oct_11','Nov_11','Dec_11'), rotation='horizontal', fontsize=13)"
   ]
  },
  {
   "cell_type": "markdown",
   "id": "acb0b4b0",
   "metadata": {},
   "source": [
    "Our best selling month is March 2011. December 2010 was not a very successful moth even though it is Christmas period and people usually make lots of purchases during that month as gifts. December 2011 bar only shows the  first 10 days and the sales look very promising to be the most successful month of the dataset time period.\n",
    "\n",
    "Let's do the same but with the days of the week."
   ]
  },
  {
   "cell_type": "code",
   "execution_count": 51,
   "id": "49b23264",
   "metadata": {},
   "outputs": [
    {
     "data": {
      "text/plain": [
       "Text(0.5, 0, 'Day')"
      ]
     },
     "execution_count": 51,
     "metadata": {},
     "output_type": "execute_result"
    },
    {
     "data": {
      "text/plain": [
       "Text(0, 0.5, 'Number of Orders')"
      ]
     },
     "execution_count": 51,
     "metadata": {},
     "output_type": "execute_result"
    },
    {
     "data": {
      "text/plain": [
       "Text(0.5, 1.0, 'Number of orders for different Days')"
      ]
     },
     "execution_count": 51,
     "metadata": {},
     "output_type": "execute_result"
    },
    {
     "data": {
      "text/plain": [
       "[Text(0, 0, 'Mon'),\n",
       " Text(0, 0, 'Tue'),\n",
       " Text(0, 0, 'Wed'),\n",
       " Text(0, 0, 'Thur'),\n",
       " Text(0, 0, 'Fri'),\n",
       " Text(0, 0, 'Sun')]"
      ]
     },
     "execution_count": 51,
     "metadata": {},
     "output_type": "execute_result"
    },
    {
     "data": {
      "image/png": "[encoded data removed]",
      "text/plain": [
       "<Figure size 1080x432 with 1 Axes>"
      ]
     },
     "metadata": {},
     "output_type": "display_data"
    }
   ],
   "source": [
    "ax = df_no_missing.groupby('InvoiceNo')['DayOfWeek'].unique().value_counts().sort_index().plot(kind='bar',figsize=(15,6))\n",
    "ax.set_xlabel('Day',fontsize=15)\n",
    "ax.set_ylabel('Number of Orders',fontsize=15)\n",
    "ax.set_title('Number of orders for different Days',fontsize=15)\n",
    "ax.set_xticklabels(('Mon','Tue','Wed','Thur','Fri','Sun'), rotation='horizontal', fontsize=15)"
   ]
  },
  {
   "cell_type": "markdown",
   "id": "3364cfd8",
   "metadata": {},
   "source": [
    "We can see that the number of sales increase from Monday to Thursday, hits a peak of around 4000 sales on Thursday, then gradually decreases to around 2200 sales on Sunday.\n",
    "\n",
    "Next, let's plot the number of orders per hour!"
   ]
  },
  {
   "cell_type": "code",
   "execution_count": 55,
   "id": "2901841b",
   "metadata": {},
   "outputs": [
    {
     "ename": "ValueError",
     "evalue": "The truth value of an array with more than one element is ambiguous. Use a.any() or a.all()",
     "output_type": "error",
     "traceback": [
      "\u001b[1;31m---------------------------------------------------------------------------\u001b[0m",
      "\u001b[1;31mValueError\u001b[0m                                Traceback (most recent call last)",
      "\u001b[1;32m<ipython-input-55-528dc4ae0fa7>\u001b[0m in \u001b[0;36m<module>\u001b[1;34m\u001b[0m\n\u001b[1;32m----> 1\u001b[1;33m \u001b[0max\u001b[0m \u001b[1;33m=\u001b[0m \u001b[0mdf_no_missing\u001b[0m\u001b[1;33m.\u001b[0m\u001b[0mgroupby\u001b[0m\u001b[1;33m(\u001b[0m\u001b[1;34m'InvoiceNo'\u001b[0m\u001b[1;33m)\u001b[0m\u001b[1;33m[\u001b[0m\u001b[1;34m'Hour'\u001b[0m\u001b[1;33m]\u001b[0m\u001b[1;33m.\u001b[0m\u001b[0munique\u001b[0m\u001b[1;33m(\u001b[0m\u001b[1;33m)\u001b[0m\u001b[1;33m.\u001b[0m\u001b[0mvalue_counts\u001b[0m\u001b[1;33m(\u001b[0m\u001b[1;33m)\u001b[0m\u001b[1;33m.\u001b[0m\u001b[0miloc\u001b[0m\u001b[1;33m[\u001b[0m\u001b[1;33m:\u001b[0m\u001b[1;33m-\u001b[0m\u001b[1;36m1\u001b[0m\u001b[1;33m]\u001b[0m\u001b[1;33m.\u001b[0m\u001b[0msort_index\u001b[0m\u001b[1;33m(\u001b[0m\u001b[1;33m)\u001b[0m\u001b[1;33m.\u001b[0m\u001b[0mplot\u001b[0m\u001b[1;33m(\u001b[0m\u001b[0mkind\u001b[0m\u001b[1;33m=\u001b[0m\u001b[1;34m'bar'\u001b[0m\u001b[1;33m,\u001b[0m\u001b[0mfigsize\u001b[0m\u001b[1;33m=\u001b[0m\u001b[1;33m(\u001b[0m\u001b[1;36m15\u001b[0m\u001b[1;33m,\u001b[0m\u001b[1;36m6\u001b[0m\u001b[1;33m)\u001b[0m\u001b[1;33m)\u001b[0m\u001b[1;33m\u001b[0m\u001b[1;33m\u001b[0m\u001b[0m\n\u001b[0m\u001b[0;32m      2\u001b[0m \u001b[0max\u001b[0m\u001b[1;33m.\u001b[0m\u001b[0mset_xlabel\u001b[0m\u001b[1;33m(\u001b[0m\u001b[1;34m'Hour'\u001b[0m\u001b[1;33m,\u001b[0m\u001b[0mfontsize\u001b[0m\u001b[1;33m=\u001b[0m\u001b[1;36m15\u001b[0m\u001b[1;33m)\u001b[0m\u001b[1;33m\u001b[0m\u001b[1;33m\u001b[0m\u001b[0m\n\u001b[0;32m      3\u001b[0m \u001b[0max\u001b[0m\u001b[1;33m.\u001b[0m\u001b[0mset_ylabel\u001b[0m\u001b[1;33m(\u001b[0m\u001b[1;34m'Number of Orders'\u001b[0m\u001b[1;33m,\u001b[0m\u001b[0mfontsize\u001b[0m\u001b[1;33m=\u001b[0m\u001b[1;36m15\u001b[0m\u001b[1;33m)\u001b[0m\u001b[1;33m\u001b[0m\u001b[1;33m\u001b[0m\u001b[0m\n\u001b[0;32m      4\u001b[0m \u001b[0max\u001b[0m\u001b[1;33m.\u001b[0m\u001b[0mset_title\u001b[0m\u001b[1;33m(\u001b[0m\u001b[1;34m'Number of orders for different Hours'\u001b[0m\u001b[1;33m,\u001b[0m\u001b[0mfontsize\u001b[0m\u001b[1;33m=\u001b[0m\u001b[1;36m15\u001b[0m\u001b[1;33m)\u001b[0m\u001b[1;33m\u001b[0m\u001b[1;33m\u001b[0m\u001b[0m\n\u001b[0;32m      5\u001b[0m \u001b[0max\u001b[0m\u001b[1;33m.\u001b[0m\u001b[0mset_xticklabels\u001b[0m\u001b[1;33m(\u001b[0m\u001b[0mrange\u001b[0m\u001b[1;33m(\u001b[0m\u001b[1;36m6\u001b[0m\u001b[1;33m,\u001b[0m\u001b[1;36m21\u001b[0m\u001b[1;33m)\u001b[0m\u001b[1;33m,\u001b[0m \u001b[0mrotation\u001b[0m\u001b[1;33m=\u001b[0m\u001b[1;34m'horizontal'\u001b[0m\u001b[1;33m,\u001b[0m \u001b[0mfontsize\u001b[0m\u001b[1;33m=\u001b[0m\u001b[1;36m15\u001b[0m\u001b[1;33m)\u001b[0m\u001b[1;33m\u001b[0m\u001b[1;33m\u001b[0m\u001b[0m\n",
      "\u001b[1;32m~\\Anaconda3\\lib\\site-packages\\pandas\\core\\series.py\u001b[0m in \u001b[0;36msort_index\u001b[1;34m(self, axis, level, ascending, inplace, kind, na_position, sort_remaining, ignore_index, key)\u001b[0m\n\u001b[0;32m   3431\u001b[0m             \u001b[0msort_remaining\u001b[0m\u001b[1;33m,\u001b[0m\u001b[1;33m\u001b[0m\u001b[1;33m\u001b[0m\u001b[0m\n\u001b[0;32m   3432\u001b[0m             \u001b[0mignore_index\u001b[0m\u001b[1;33m,\u001b[0m\u001b[1;33m\u001b[0m\u001b[1;33m\u001b[0m\u001b[0m\n\u001b[1;32m-> 3433\u001b[1;33m             \u001b[0mkey\u001b[0m\u001b[1;33m,\u001b[0m\u001b[1;33m\u001b[0m\u001b[1;33m\u001b[0m\u001b[0m\n\u001b[0m\u001b[0;32m   3434\u001b[0m         )\n\u001b[0;32m   3435\u001b[0m \u001b[1;33m\u001b[0m\u001b[0m\n",
      "\u001b[1;32m~\\Anaconda3\\lib\\site-packages\\pandas\\core\\generic.py\u001b[0m in \u001b[0;36msort_index\u001b[1;34m(self, axis, level, ascending, inplace, kind, na_position, sort_remaining, ignore_index, key)\u001b[0m\n\u001b[0;32m   4536\u001b[0m \u001b[1;33m\u001b[0m\u001b[0m\n\u001b[0;32m   4537\u001b[0m         indexer = get_indexer_indexer(\n\u001b[1;32m-> 4538\u001b[1;33m             \u001b[0mtarget\u001b[0m\u001b[1;33m,\u001b[0m \u001b[0mlevel\u001b[0m\u001b[1;33m,\u001b[0m \u001b[0mascending\u001b[0m\u001b[1;33m,\u001b[0m \u001b[0mkind\u001b[0m\u001b[1;33m,\u001b[0m \u001b[0mna_position\u001b[0m\u001b[1;33m,\u001b[0m \u001b[0msort_remaining\u001b[0m\u001b[1;33m,\u001b[0m \u001b[0mkey\u001b[0m\u001b[1;33m\u001b[0m\u001b[1;33m\u001b[0m\u001b[0m\n\u001b[0m\u001b[0;32m   4539\u001b[0m         )\n\u001b[0;32m   4540\u001b[0m \u001b[1;33m\u001b[0m\u001b[0m\n",
      "\u001b[1;32m~\\Anaconda3\\lib\\site-packages\\pandas\\core\\sorting.py\u001b[0m in \u001b[0;36mget_indexer_indexer\u001b[1;34m(target, level, ascending, kind, na_position, sort_remaining, key)\u001b[0m\n\u001b[0;32m     86\u001b[0m \u001b[1;33m\u001b[0m\u001b[0m\n\u001b[0;32m     87\u001b[0m         indexer = nargsort(\n\u001b[1;32m---> 88\u001b[1;33m             \u001b[0mtarget\u001b[0m\u001b[1;33m,\u001b[0m \u001b[0mkind\u001b[0m\u001b[1;33m=\u001b[0m\u001b[0mkind\u001b[0m\u001b[1;33m,\u001b[0m \u001b[0mascending\u001b[0m\u001b[1;33m=\u001b[0m\u001b[0mascending\u001b[0m\u001b[1;33m,\u001b[0m \u001b[0mna_position\u001b[0m\u001b[1;33m=\u001b[0m\u001b[0mna_position\u001b[0m\u001b[1;33m\u001b[0m\u001b[1;33m\u001b[0m\u001b[0m\n\u001b[0m\u001b[0;32m     89\u001b[0m         )\n\u001b[0;32m     90\u001b[0m     \u001b[1;32mreturn\u001b[0m \u001b[0mindexer\u001b[0m\u001b[1;33m\u001b[0m\u001b[1;33m\u001b[0m\u001b[0m\n",
      "\u001b[1;32m~\\Anaconda3\\lib\\site-packages\\pandas\\core\\sorting.py\u001b[0m in \u001b[0;36mnargsort\u001b[1;34m(items, kind, ascending, na_position, key, mask)\u001b[0m\n\u001b[0;32m    366\u001b[0m \u001b[1;33m\u001b[0m\u001b[0m\n\u001b[0;32m    367\u001b[0m     \u001b[1;32mif\u001b[0m \u001b[0mis_extension_array_dtype\u001b[0m\u001b[1;33m(\u001b[0m\u001b[0mitems\u001b[0m\u001b[1;33m)\u001b[0m\u001b[1;33m:\u001b[0m\u001b[1;33m\u001b[0m\u001b[1;33m\u001b[0m\u001b[0m\n\u001b[1;32m--> 368\u001b[1;33m         \u001b[1;32mreturn\u001b[0m \u001b[0mitems\u001b[0m\u001b[1;33m.\u001b[0m\u001b[0margsort\u001b[0m\u001b[1;33m(\u001b[0m\u001b[0mascending\u001b[0m\u001b[1;33m=\u001b[0m\u001b[0mascending\u001b[0m\u001b[1;33m,\u001b[0m \u001b[0mkind\u001b[0m\u001b[1;33m=\u001b[0m\u001b[0mkind\u001b[0m\u001b[1;33m,\u001b[0m \u001b[0mna_position\u001b[0m\u001b[1;33m=\u001b[0m\u001b[0mna_position\u001b[0m\u001b[1;33m)\u001b[0m\u001b[1;33m\u001b[0m\u001b[1;33m\u001b[0m\u001b[0m\n\u001b[0m\u001b[0;32m    369\u001b[0m     \u001b[1;32melse\u001b[0m\u001b[1;33m:\u001b[0m\u001b[1;33m\u001b[0m\u001b[1;33m\u001b[0m\u001b[0m\n\u001b[0;32m    370\u001b[0m         \u001b[0mitems\u001b[0m \u001b[1;33m=\u001b[0m \u001b[0mnp\u001b[0m\u001b[1;33m.\u001b[0m\u001b[0masanyarray\u001b[0m\u001b[1;33m(\u001b[0m\u001b[0mitems\u001b[0m\u001b[1;33m)\u001b[0m\u001b[1;33m\u001b[0m\u001b[1;33m\u001b[0m\u001b[0m\n",
      "\u001b[1;32m~\\Anaconda3\\lib\\site-packages\\pandas\\core\\arrays\\base.py\u001b[0m in \u001b[0;36margsort\u001b[1;34m(self, ascending, kind, na_position, *args, **kwargs)\u001b[0m\n\u001b[0;32m    589\u001b[0m             \u001b[0mascending\u001b[0m\u001b[1;33m=\u001b[0m\u001b[0mascending\u001b[0m\u001b[1;33m,\u001b[0m\u001b[1;33m\u001b[0m\u001b[1;33m\u001b[0m\u001b[0m\n\u001b[0;32m    590\u001b[0m             \u001b[0mna_position\u001b[0m\u001b[1;33m=\u001b[0m\u001b[0mna_position\u001b[0m\u001b[1;33m,\u001b[0m\u001b[1;33m\u001b[0m\u001b[1;33m\u001b[0m\u001b[0m\n\u001b[1;32m--> 591\u001b[1;33m             \u001b[0mmask\u001b[0m\u001b[1;33m=\u001b[0m\u001b[0mnp\u001b[0m\u001b[1;33m.\u001b[0m\u001b[0masarray\u001b[0m\u001b[1;33m(\u001b[0m\u001b[0mself\u001b[0m\u001b[1;33m.\u001b[0m\u001b[0misna\u001b[0m\u001b[1;33m(\u001b[0m\u001b[1;33m)\u001b[0m\u001b[1;33m)\u001b[0m\u001b[1;33m,\u001b[0m\u001b[1;33m\u001b[0m\u001b[1;33m\u001b[0m\u001b[0m\n\u001b[0m\u001b[0;32m    592\u001b[0m         )\n\u001b[0;32m    593\u001b[0m \u001b[1;33m\u001b[0m\u001b[0m\n",
      "\u001b[1;32m~\\Anaconda3\\lib\\site-packages\\pandas\\core\\sorting.py\u001b[0m in \u001b[0;36mnargsort\u001b[1;34m(items, kind, ascending, na_position, key, mask)\u001b[0m\n\u001b[0;32m    378\u001b[0m         \u001b[0mnon_nans\u001b[0m \u001b[1;33m=\u001b[0m \u001b[0mnon_nans\u001b[0m\u001b[1;33m[\u001b[0m\u001b[1;33m:\u001b[0m\u001b[1;33m:\u001b[0m\u001b[1;33m-\u001b[0m\u001b[1;36m1\u001b[0m\u001b[1;33m]\u001b[0m\u001b[1;33m\u001b[0m\u001b[1;33m\u001b[0m\u001b[0m\n\u001b[0;32m    379\u001b[0m         \u001b[0mnon_nan_idx\u001b[0m \u001b[1;33m=\u001b[0m \u001b[0mnon_nan_idx\u001b[0m\u001b[1;33m[\u001b[0m\u001b[1;33m:\u001b[0m\u001b[1;33m:\u001b[0m\u001b[1;33m-\u001b[0m\u001b[1;36m1\u001b[0m\u001b[1;33m]\u001b[0m\u001b[1;33m\u001b[0m\u001b[1;33m\u001b[0m\u001b[0m\n\u001b[1;32m--> 380\u001b[1;33m     \u001b[0mindexer\u001b[0m \u001b[1;33m=\u001b[0m \u001b[0mnon_nan_idx\u001b[0m\u001b[1;33m[\u001b[0m\u001b[0mnon_nans\u001b[0m\u001b[1;33m.\u001b[0m\u001b[0margsort\u001b[0m\u001b[1;33m(\u001b[0m\u001b[0mkind\u001b[0m\u001b[1;33m=\u001b[0m\u001b[0mkind\u001b[0m\u001b[1;33m)\u001b[0m\u001b[1;33m]\u001b[0m\u001b[1;33m\u001b[0m\u001b[1;33m\u001b[0m\u001b[0m\n\u001b[0m\u001b[0;32m    381\u001b[0m     \u001b[1;32mif\u001b[0m \u001b[1;32mnot\u001b[0m \u001b[0mascending\u001b[0m\u001b[1;33m:\u001b[0m\u001b[1;33m\u001b[0m\u001b[1;33m\u001b[0m\u001b[0m\n\u001b[0;32m    382\u001b[0m         \u001b[0mindexer\u001b[0m \u001b[1;33m=\u001b[0m \u001b[0mindexer\u001b[0m\u001b[1;33m[\u001b[0m\u001b[1;33m:\u001b[0m\u001b[1;33m:\u001b[0m\u001b[1;33m-\u001b[0m\u001b[1;36m1\u001b[0m\u001b[1;33m]\u001b[0m\u001b[1;33m\u001b[0m\u001b[1;33m\u001b[0m\u001b[0m\n",
      "\u001b[1;31mValueError\u001b[0m: The truth value of an array with more than one element is ambiguous. Use a.any() or a.all()"
     ]
    }
   ],
   "source": [
    "ax = df_no_missing.groupby('InvoiceNo')['Hour'].unique().value_counts().iloc[:-1].sort_index().plot(kind='bar',figsize=(15,6))\n",
    "ax.set_xlabel('Hour',fontsize=15)\n",
    "ax.set_ylabel('Number of Orders',fontsize=15)\n",
    "ax.set_title('Number of orders for different Hours',fontsize=15)\n",
    "ax.set_xticklabels(range(6,21), rotation='horizontal', fontsize=15)"
   ]
  },
  {
   "cell_type": "code",
   "execution_count": null,
   "id": "0577782e",
   "metadata": {},
   "outputs": [],
   "source": []
  },
  {
   "cell_type": "code",
   "execution_count": 53,
   "id": "900c8955",
   "metadata": {},
   "outputs": [
    {
     "data": {
      "text/plain": [
       "Text(0.5, 0, 'Week')"
      ]
     },
     "execution_count": 53,
     "metadata": {},
     "output_type": "execute_result"
    },
    {
     "data": {
      "text/plain": [
       "Text(0, 0.5, 'Number of Orders')"
      ]
     },
     "execution_count": 53,
     "metadata": {},
     "output_type": "execute_result"
    },
    {
     "data": {
      "text/plain": [
       "Text(0.5, 1.0, 'Number of orders per week of the year')"
      ]
     },
     "execution_count": 53,
     "metadata": {},
     "output_type": "execute_result"
    },
    {
     "data": {
      "text/plain": [
       "[Text(0, 0, '0'),\n",
       " Text(0, 0, '1'),\n",
       " Text(0, 0, '2'),\n",
       " Text(0, 0, '3'),\n",
       " Text(0, 0, '4'),\n",
       " Text(0, 0, '5'),\n",
       " Text(0, 0, '6'),\n",
       " Text(0, 0, '7'),\n",
       " Text(0, 0, '8'),\n",
       " Text(0, 0, '9'),\n",
       " Text(0, 0, '10'),\n",
       " Text(0, 0, '11'),\n",
       " Text(0, 0, '12'),\n",
       " Text(0, 0, '13'),\n",
       " Text(0, 0, '14'),\n",
       " Text(0, 0, '15'),\n",
       " Text(0, 0, '16'),\n",
       " Text(0, 0, '17'),\n",
       " Text(0, 0, '18'),\n",
       " Text(0, 0, '19'),\n",
       " Text(0, 0, '20'),\n",
       " Text(0, 0, '21'),\n",
       " Text(0, 0, '22'),\n",
       " Text(0, 0, '23'),\n",
       " Text(0, 0, '24'),\n",
       " Text(0, 0, '25'),\n",
       " Text(0, 0, '26'),\n",
       " Text(0, 0, '27'),\n",
       " Text(0, 0, '28'),\n",
       " Text(0, 0, '29'),\n",
       " Text(0, 0, '30'),\n",
       " Text(0, 0, '31'),\n",
       " Text(0, 0, '32'),\n",
       " Text(0, 0, '33'),\n",
       " Text(0, 0, '34'),\n",
       " Text(0, 0, '35'),\n",
       " Text(0, 0, '36'),\n",
       " Text(0, 0, '37'),\n",
       " Text(0, 0, '38'),\n",
       " Text(0, 0, '39'),\n",
       " Text(0, 0, '40'),\n",
       " Text(0, 0, '41'),\n",
       " Text(0, 0, '42'),\n",
       " Text(0, 0, '43'),\n",
       " Text(0, 0, '44'),\n",
       " Text(0, 0, '45'),\n",
       " Text(0, 0, '46'),\n",
       " Text(0, 0, '47'),\n",
       " Text(0, 0, '48'),\n",
       " Text(0, 0, '49')]"
      ]
     },
     "execution_count": 53,
     "metadata": {},
     "output_type": "execute_result"
    },
    {
     "data": {
      "image/png": "[encoded data removed]",
      "text/plain": [
       "<Figure size 1080x432 with 1 Axes>"
      ]
     },
     "metadata": {},
     "output_type": "display_data"
    }
   ],
   "source": [
    "ax = df_no_missing.groupby('InvoiceNo')['WeekOfYear'].unique().value_counts().iloc[:-1].sort_index().plot(kind='bar',figsize=(15,6))\n",
    "ax.set_xlabel('Week',fontsize=15)\n",
    "ax.set_ylabel('Number of Orders',fontsize=15)\n",
    "ax.set_title('Number of orders per week of the year',fontsize=15)\n",
    "ax.set_xticklabels(range(0,52), rotation='horizontal', fontsize=15)"
   ]
  },
  {
   "cell_type": "markdown",
   "id": "a0a1a05e",
   "metadata": {},
   "source": [
    "The number of orders stays constant more or less throughtout the year until it dramatically increases on Week 47 and 48. This coincides with the second half of November, where people starts to buy christmas gifts.\n",
    "\n",
    "## Unit Price Analysis\n",
    "\n",
    "It important to look at the average unit price that the consumers are buying."
   ]
  },
  {
   "cell_type": "code",
   "execution_count": 56,
   "id": "ed2707a7",
   "metadata": {},
   "outputs": [
    {
     "data": {
      "text/plain": [
       "count    397924.000000\n",
       "mean          3.116174\n",
       "std          22.096788\n",
       "min           0.000000\n",
       "25%           1.250000\n",
       "50%           1.950000\n",
       "75%           3.750000\n",
       "max        8142.750000\n",
       "Name: UnitPrice, dtype: float64"
      ]
     },
     "execution_count": 56,
     "metadata": {},
     "output_type": "execute_result"
    }
   ],
   "source": [
    "df_no_missing['UnitPrice'].describe()"
   ]
  },
  {
   "cell_type": "markdown",
   "id": "a52101f2",
   "metadata": {},
   "source": [
    "The average price for an item is \\\\$3.1, with a standard deviation of \\\\$22. The cheapest item in the store was \\\\$0 which means some items were given out for free, while the most expensive item ws a whopping $8142. Let's look at the distribution of unit price."
   ]
  },
  {
   "cell_type": "code",
   "execution_count": 57,
   "id": "e5f78ed9",
   "metadata": {},
   "outputs": [
    {
     "data": {
      "text/plain": [
       "(<Figure size 864x432 with 1 Axes>,\n",
       " <matplotlib.axes._subplots.AxesSubplot at 0x164d50f8b08>)"
      ]
     },
     "execution_count": 57,
     "metadata": {},
     "output_type": "execute_result"
    },
    {
     "name": "stderr",
     "output_type": "stream",
     "text": [
      "C:\\Users\\Abderraouf\\Anaconda3\\lib\\site-packages\\seaborn\\_decorators.py:43: FutureWarning:\n",
      "\n",
      "Pass the following variable as a keyword arg: x. From version 0.12, the only valid positional argument will be `data`, and passing other arguments without an explicit keyword will result in an error or misinterpretation.\n",
      "\n"
     ]
    },
    {
     "data": {
      "text/plain": [
       "<matplotlib.axes._subplots.AxesSubplot at 0x164d50f8b08>"
      ]
     },
     "execution_count": 57,
     "metadata": {},
     "output_type": "execute_result"
    },
    {
     "data": {
      "image/png": "[encoded data removed]",
      "text/plain": [
       "<Figure size 864x432 with 1 Axes>"
      ]
     },
     "metadata": {},
     "output_type": "display_data"
    }
   ],
   "source": [
    "plt.subplots(figsize=(12,6))\n",
    "sns.boxplot(df_no_missing.UnitPrice)"
   ]
  },
  {
   "cell_type": "markdown",
   "id": "9cecaa3f",
   "metadata": {},
   "source": [
    "As we can see, the majority of items are priced between 0 and 700ish dollars. It is interesting to see what and when the store gave away free items."
   ]
  },
  {
   "cell_type": "code",
   "execution_count": 58,
   "id": "5c3a06bd",
   "metadata": {},
   "outputs": [
    {
     "name": "stdout",
     "output_type": "stream",
     "text": [
      "40\n"
     ]
    },
    {
     "data": {
      "text/plain": [
       "array(['ROUND CAKE TIN VINTAGE GREEN', 'ADVENT CALENDAR GINGHAM SACK',\n",
       "       'REGENCY CAKESTAND 3 TIER', 'PAPER BUNTING RETROSPOT',\n",
       "       'PLASTERS IN TIN SKULLS', 'ORGANISER WOOD ANTIQUE WHITE ',\n",
       "       'FAIRY CAKES NOTEBOOK A6 SIZE',\n",
       "       'CERAMIC BOWL WITH LOVE HEART DESIGN',\n",
       "       'MINI CAKE STAND  HANGING STRAWBERY',\n",
       "       'HEART GARLAND RUSTIC PADDED',\n",
       "       'CHILDS BREAKFAST SET CIRCUS PARADE', 'PARTY BUNTING',\n",
       "       'SET OF 6 SOLDIER SKITTLES', ' OVAL WALL MIRROR DIAMANTE ',\n",
       "       'JAM MAKING SET WITH JARS', 'Manual', 'SET OF 6 NATIVITY MAGNETS ',\n",
       "       'SET OF 2 CERAMIC PAINTED HEARTS ',\n",
       "       'SET OF 2 CERAMIC CHRISTMAS REINDEER', '36 FOIL STAR CAKE CASES ',\n",
       "       'POLKADOT RAIN HAT ', 'PADS TO MATCH ALL CUSHIONS',\n",
       "       'GLASS CLOCHE SMALL', 'PASTEL COLOUR HONEYCOMB FAN',\n",
       "       'BISCUIT TIN VINTAGE CHRISTMAS', 'CHRISTMAS PUDDING TRINKET POT ',\n",
       "       'JUMBO BAG SPACEBOY DESIGN', 'RED KITCHEN SCALES',\n",
       "       \"CHILDREN'S APRON DOLLY GIRL \", 'MINI LIGHTS WOODLAND MUSHROOMS',\n",
       "       'SET OF 9 BLACK SKULL BALLOONS', 'PAPER BUNTING VINTAGE PAISLEY',\n",
       "       'HANGING METAL HEART LANTERN', 'SET OF 2 TRAYS HOME SWEET HOME',\n",
       "       'ASSTD DESIGN 3D PAPER STICKERS'], dtype=object)"
      ]
     },
     "execution_count": 58,
     "metadata": {},
     "output_type": "execute_result"
    }
   ],
   "source": [
    "df_free = df_no_missing[df_no_missing.UnitPrice == 0]\n",
    "print(len(df_free))\n",
    "df_free['Description'].unique()"
   ]
  },
  {
   "cell_type": "markdown",
   "id": "a16382fc",
   "metadata": {},
   "source": [
    "35 unique items were given out for free to 40 customers. A list of the items is show above and the theme is warm/colorful home decoration."
   ]
  },
  {
   "cell_type": "code",
   "execution_count": 59,
   "id": "411dfbf2",
   "metadata": {},
   "outputs": [
    {
     "data": {
      "text/plain": [
       "Text(0.5, 0, 'Month')"
      ]
     },
     "execution_count": 59,
     "metadata": {},
     "output_type": "execute_result"
    },
    {
     "data": {
      "text/plain": [
       "Text(0, 0.5, 'Frequency')"
      ]
     },
     "execution_count": 59,
     "metadata": {},
     "output_type": "execute_result"
    },
    {
     "data": {
      "text/plain": [
       "Text(0.5, 1.0, 'Frequency for different Months (Dec 2010 - Dec 2011)')"
      ]
     },
     "execution_count": 59,
     "metadata": {},
     "output_type": "execute_result"
    },
    {
     "data": {
      "text/plain": [
       "[Text(0, 0, 'Dec_10'),\n",
       " Text(0, 0, 'Jan_11'),\n",
       " Text(0, 0, 'Feb_11'),\n",
       " Text(0, 0, 'Mar_11'),\n",
       " Text(0, 0, 'Apr_11'),\n",
       " Text(0, 0, 'May_11'),\n",
       " Text(0, 0, 'July_11'),\n",
       " Text(0, 0, 'Aug_11'),\n",
       " Text(0, 0, 'Sep_11'),\n",
       " Text(0, 0, 'Oct_11'),\n",
       " Text(0, 0, 'Nov_11')]"
      ]
     },
     "execution_count": 59,
     "metadata": {},
     "output_type": "execute_result"
    },
    {
     "data": {
      "image/png": "[encoded data removed]",
      "text/plain": [
       "<Figure size 864x432 with 1 Axes>"
      ]
     },
     "metadata": {},
     "output_type": "display_data"
    }
   ],
   "source": [
    "ax = df_free.YearMonth.value_counts().sort_index().plot(kind='bar',figsize=(12,6))\n",
    "ax.set_xlabel('Month',fontsize=15)\n",
    "ax.set_ylabel('Frequency',fontsize=15)\n",
    "ax.set_title('Frequency for different Months (Dec 2010 - Dec 2011)',fontsize=15)\n",
    "ax.set_xticklabels(('Dec_10','Jan_11','Feb_11','Mar_11','Apr_11','May_11','July_11','Aug_11','Sep_11','Oct_11','Nov_11'), rotation='horizontal', fontsize=13)"
   ]
  },
  {
   "cell_type": "markdown",
   "id": "a3a45b74",
   "metadata": {},
   "source": [
    "14 of those items were given in March 2011, whith the rest of the month seeing an average of 2-3 free items with the exception of June 2011, where there were no giveaways."
   ]
  },
  {
   "cell_type": "markdown",
   "id": "bd38ce90",
   "metadata": {},
   "source": [
    "## Analysis per Country\n",
    "\n",
    "Let's take a look at sales and amount spent per country."
   ]
  },
  {
   "cell_type": "code",
   "execution_count": 60,
   "id": "ca9dad3a",
   "metadata": {},
   "outputs": [
    {
     "data": {
      "text/plain": [
       "(<Figure size 1080x576 with 1 Axes>,\n",
       " <matplotlib.axes._subplots.AxesSubplot at 0x164d1589bc8>)"
      ]
     },
     "execution_count": 60,
     "metadata": {},
     "output_type": "execute_result"
    },
    {
     "data": {
      "text/plain": [
       "<matplotlib.axes._subplots.AxesSubplot at 0x164d1589bc8>"
      ]
     },
     "execution_count": 60,
     "metadata": {},
     "output_type": "execute_result"
    },
    {
     "data": {
      "text/plain": [
       "Text(0.5, 0, 'Number of Orders')"
      ]
     },
     "execution_count": 60,
     "metadata": {},
     "output_type": "execute_result"
    },
    {
     "data": {
      "text/plain": [
       "Text(0, 0.5, 'Country')"
      ]
     },
     "execution_count": 60,
     "metadata": {},
     "output_type": "execute_result"
    },
    {
     "data": {
      "text/plain": [
       "Text(0.5, 1.0, 'Number of Orders for different Countries')"
      ]
     },
     "execution_count": 60,
     "metadata": {},
     "output_type": "execute_result"
    },
    {
     "data": {
      "image/png": "[encoded data removed]",
      "text/plain": [
       "<Figure size 1080x576 with 1 Axes>"
      ]
     },
     "metadata": {},
     "output_type": "display_data"
    }
   ],
   "source": [
    "group_country_orders = df_no_missing.groupby('Country')['InvoiceDate'].count().sort_values()\n",
    "\n",
    "# plot number of unique customers in each country (with UK)\n",
    "plt.subplots(figsize=(15,8))\n",
    "group_country_orders.plot(kind='barh', fontsize=12)\n",
    "plt.xlabel('Number of Orders', fontsize=12)\n",
    "plt.ylabel('Country', fontsize=12)\n",
    "plt.title('Number of Orders for different Countries', fontsize=12)"
   ]
  },
  {
   "cell_type": "markdown",
   "id": "38168f34",
   "metadata": {},
   "source": [
    "UK makes up the bulk of the orders which just over 350000 in one year. Let's plot another chart excluding the UK to better visualize the other country's sales numbers."
   ]
  },
  {
   "cell_type": "code",
   "execution_count": 61,
   "id": "37ee39df",
   "metadata": {},
   "outputs": [
    {
     "data": {
      "text/plain": [
       "(<Figure size 1080x576 with 1 Axes>,\n",
       " <matplotlib.axes._subplots.AxesSubplot at 0x164d1e4fd08>)"
      ]
     },
     "execution_count": 61,
     "metadata": {},
     "output_type": "execute_result"
    },
    {
     "data": {
      "text/plain": [
       "<matplotlib.axes._subplots.AxesSubplot at 0x164d1e4fd08>"
      ]
     },
     "execution_count": 61,
     "metadata": {},
     "output_type": "execute_result"
    },
    {
     "data": {
      "text/plain": [
       "Text(0.5, 0, 'Number of Orders')"
      ]
     },
     "execution_count": 61,
     "metadata": {},
     "output_type": "execute_result"
    },
    {
     "data": {
      "text/plain": [
       "Text(0, 0.5, 'Country')"
      ]
     },
     "execution_count": 61,
     "metadata": {},
     "output_type": "execute_result"
    },
    {
     "data": {
      "text/plain": [
       "Text(0.5, 1.0, 'Number of Orders for different Countries')"
      ]
     },
     "execution_count": 61,
     "metadata": {},
     "output_type": "execute_result"
    },
    {
     "data": {
      "image/png": "[encoded data removed]",
      "text/plain": [
       "<Figure size 1080x576 with 1 Axes>"
      ]
     },
     "metadata": {},
     "output_type": "display_data"
    }
   ],
   "source": [
    "group_country_orders_without_uk = group_country_orders.copy()\n",
    "del group_country_orders_without_uk['United Kingdom']\n",
    "\n",
    "# plot number of unique customers in each country (without UK)\n",
    "plt.subplots(figsize=(15,8))\n",
    "group_country_orders_without_uk.plot(kind='barh', fontsize=12)\n",
    "plt.xlabel('Number of Orders', fontsize=12)\n",
    "plt.ylabel('Country', fontsize=12)\n",
    "plt.title('Number of Orders for different Countries', fontsize=12)"
   ]
  },
  {
   "cell_type": "markdown",
   "id": "081c45e4",
   "metadata": {},
   "source": [
    "After the UK, Germany is the next biggest customer in terms of orders (9042), followed closely by France (8342) and EIRE (7238). The number of orders drop dramatically between these and the next country Spain, to just over 2485 orders. Number of orders are important, but a more important metric is amount spent by customers of a particular country."
   ]
  },
  {
   "cell_type": "code",
   "execution_count": 62,
   "id": "78aa8822",
   "metadata": {},
   "outputs": [
    {
     "data": {
      "text/plain": [
       "(<Figure size 1080x576 with 1 Axes>,\n",
       " <matplotlib.axes._subplots.AxesSubplot at 0x164d501dc48>)"
      ]
     },
     "execution_count": 62,
     "metadata": {},
     "output_type": "execute_result"
    },
    {
     "data": {
      "text/plain": [
       "<matplotlib.axes._subplots.AxesSubplot at 0x164d501dc48>"
      ]
     },
     "execution_count": 62,
     "metadata": {},
     "output_type": "execute_result"
    },
    {
     "data": {
      "text/plain": [
       "Text(0.5, 0, 'Money Spent (Dollar)')"
      ]
     },
     "execution_count": 62,
     "metadata": {},
     "output_type": "execute_result"
    },
    {
     "data": {
      "text/plain": [
       "Text(0, 0.5, 'Country')"
      ]
     },
     "execution_count": 62,
     "metadata": {},
     "output_type": "execute_result"
    },
    {
     "data": {
      "text/plain": [
       "Text(0.5, 1.0, 'Money Spent by different Countries')"
      ]
     },
     "execution_count": 62,
     "metadata": {},
     "output_type": "execute_result"
    },
    {
     "data": {
      "image/png": "[encoded data removed]",
      "text/plain": [
       "<Figure size 1080x576 with 1 Axes>"
      ]
     },
     "metadata": {},
     "output_type": "display_data"
    }
   ],
   "source": [
    "# Amount spent by each country (without UK)\n",
    "group_country_amount_spent = df_no_missing.groupby('Country')['AmountSpent'].sum().sort_values()\n",
    "del group_country_amount_spent['United Kingdom']\n",
    "\n",
    "# plot total money spent by each country (without UK)\n",
    "plt.subplots(figsize=(15,8))\n",
    "group_country_amount_spent.plot(kind='barh', fontsize=12)\n",
    "plt.xlabel('Money Spent (Dollar)', fontsize=12)\n",
    "plt.ylabel('Country', fontsize=12)\n",
    "plt.title('Money Spent by different Countries', fontsize=12)"
   ]
  },
  {
   "cell_type": "markdown",
   "id": "06cea70c",
   "metadata": {},
   "source": [
    "Excluding the UK, the Netherlands (\\\\$285 446), EIRE (\\\\$265 459), Germany (\\\\$228 867) and France (\\\\$209 024) are our major spenders. The UK, while not shown on the plot above, contributed to \\\\$7 308 392 worth of sales."
   ]
  },
  {
   "cell_type": "markdown",
   "id": "9bd0c524",
   "metadata": {},
   "source": [
    "## Item Trends\n",
    "\n"
   ]
  },
  {
   "cell_type": "markdown",
   "id": "ded46f7a",
   "metadata": {},
   "source": [
    "Let's count the number of items sold for each product for each period."
   ]
  },
  {
   "cell_type": "code",
   "execution_count": 63,
   "id": "724275ca",
   "metadata": {},
   "outputs": [
    {
     "data": {
      "text/html": [
       "<div>\n",
       "<style scoped>\n",
       "    .dataframe tbody tr th:only-of-type {\n",
       "        vertical-align: middle;\n",
       "    }\n",
       "\n",
       "    .dataframe tbody tr th {\n",
       "        vertical-align: top;\n",
       "    }\n",
       "\n",
       "    .dataframe thead th {\n",
       "        text-align: right;\n",
       "    }\n",
       "</style>\n",
       "<table border=\"1\" class=\"dataframe\">\n",
       "  <thead>\n",
       "    <tr style=\"text-align: right;\">\n",
       "      <th></th>\n",
       "      <th>InvoiceDate</th>\n",
       "      <th>StockCode</th>\n",
       "      <th>Quantity</th>\n",
       "    </tr>\n",
       "  </thead>\n",
       "  <tbody>\n",
       "    <tr>\n",
       "      <th>2371</th>\n",
       "      <td>2011-11-30</td>\n",
       "      <td>84826</td>\n",
       "      <td>12551</td>\n",
       "    </tr>\n",
       "    <tr>\n",
       "      <th>1567</th>\n",
       "      <td>2011-11-30</td>\n",
       "      <td>23084</td>\n",
       "      <td>12393</td>\n",
       "    </tr>\n",
       "    <tr>\n",
       "      <th>827</th>\n",
       "      <td>2011-11-30</td>\n",
       "      <td>22197</td>\n",
       "      <td>8458</td>\n",
       "    </tr>\n",
       "    <tr>\n",
       "      <th>738</th>\n",
       "      <td>2011-11-30</td>\n",
       "      <td>22086</td>\n",
       "      <td>5919</td>\n",
       "    </tr>\n",
       "    <tr>\n",
       "      <th>2488</th>\n",
       "      <td>2011-11-30</td>\n",
       "      <td>85099B</td>\n",
       "      <td>5678</td>\n",
       "    </tr>\n",
       "    <tr>\n",
       "      <th>2385</th>\n",
       "      <td>2011-11-30</td>\n",
       "      <td>84879</td>\n",
       "      <td>5190</td>\n",
       "    </tr>\n",
       "    <tr>\n",
       "      <th>1135</th>\n",
       "      <td>2011-11-30</td>\n",
       "      <td>22578</td>\n",
       "      <td>4981</td>\n",
       "    </tr>\n",
       "    <tr>\n",
       "      <th>2498</th>\n",
       "      <td>2011-11-30</td>\n",
       "      <td>85123A</td>\n",
       "      <td>4861</td>\n",
       "    </tr>\n",
       "    <tr>\n",
       "      <th>1134</th>\n",
       "      <td>2011-11-30</td>\n",
       "      <td>22577</td>\n",
       "      <td>4582</td>\n",
       "    </tr>\n",
       "    <tr>\n",
       "      <th>2278</th>\n",
       "      <td>2011-11-30</td>\n",
       "      <td>84077</td>\n",
       "      <td>4500</td>\n",
       "    </tr>\n",
       "  </tbody>\n",
       "</table>\n",
       "</div>"
      ],
      "text/plain": [
       "     InvoiceDate StockCode  Quantity\n",
       "2371  2011-11-30     84826     12551\n",
       "1567  2011-11-30     23084     12393\n",
       "827   2011-11-30     22197      8458\n",
       "738   2011-11-30     22086      5919\n",
       "2488  2011-11-30    85099B      5678\n",
       "2385  2011-11-30     84879      5190\n",
       "1135  2011-11-30     22578      4981\n",
       "2498  2011-11-30    85123A      4861\n",
       "1134  2011-11-30     22577      4582\n",
       "2278  2011-11-30     84077      4500"
      ]
     },
     "execution_count": 63,
     "metadata": {},
     "output_type": "execute_result"
    }
   ],
   "source": [
    "date_item_df = df_no_missing.set_index('InvoiceDate').groupby([pd.Grouper(freq='M'), 'StockCode'])['Quantity'].sum()\n",
    "\n",
    "# Rank items by the last month's sales\n",
    "last_month_sorted_df = date_item_df.loc['2011-11-30']\n",
    "last_month_sorted_df = last_month_sorted_df.reset_index()\n",
    "last_month_sorted_df.sort_values(by='Quantity', ascending=False).head(10)"
   ]
  },
  {
   "cell_type": "markdown",
   "id": "8ea7356a",
   "metadata": {},
   "source": [
    "Let's grab the top 5 items and their corresponding codes."
   ]
  },
  {
   "cell_type": "code",
   "execution_count": 64,
   "id": "5898d286",
   "metadata": {},
   "outputs": [
    {
     "data": {
      "text/plain": [
       "InvoiceDate  StockCode\n",
       "2010-12-31   22086        1697\n",
       "             22197        2110\n",
       "             84826         366\n",
       "             85099B       2056\n",
       "2011-01-31   22197        1697\n",
       "                          ... \n",
       "2011-12-31   22086        1393\n",
       "             22197        5362\n",
       "             23084        3691\n",
       "             84826          92\n",
       "             85099B       1055\n",
       "Name: Quantity, Length: 57, dtype: int64"
      ]
     },
     "execution_count": 64,
     "metadata": {},
     "output_type": "execute_result"
    }
   ],
   "source": [
    "date_item_df = df_no_missing.loc[df_no_missing['StockCode'].isin(['23084', '84826', '22197', '22086', '85099B'])].set_index('InvoiceDate').groupby([\n",
    "    pd.Grouper(freq='M'), 'StockCode'])['Quantity'].sum()\n",
    "\n",
    "date_item_df"
   ]
  },
  {
   "cell_type": "code",
   "execution_count": 65,
   "id": "e4abc9c9",
   "metadata": {},
   "outputs": [
    {
     "data": {
      "text/html": [
       "<div>\n",
       "<style scoped>\n",
       "    .dataframe tbody tr th:only-of-type {\n",
       "        vertical-align: middle;\n",
       "    }\n",
       "\n",
       "    .dataframe tbody tr th {\n",
       "        vertical-align: top;\n",
       "    }\n",
       "\n",
       "    .dataframe thead th {\n",
       "        text-align: right;\n",
       "    }\n",
       "</style>\n",
       "<table border=\"1\" class=\"dataframe\">\n",
       "  <thead>\n",
       "    <tr style=\"text-align: right;\">\n",
       "      <th>StockCode</th>\n",
       "      <th>22086</th>\n",
       "      <th>22197</th>\n",
       "      <th>23084</th>\n",
       "      <th>84826</th>\n",
       "      <th>85099B</th>\n",
       "    </tr>\n",
       "    <tr>\n",
       "      <th>InvoiceDate</th>\n",
       "      <th></th>\n",
       "      <th></th>\n",
       "      <th></th>\n",
       "      <th></th>\n",
       "      <th></th>\n",
       "    </tr>\n",
       "  </thead>\n",
       "  <tbody>\n",
       "    <tr>\n",
       "      <th>2010-12-31</th>\n",
       "      <td>1697.0</td>\n",
       "      <td>2110.0</td>\n",
       "      <td>0.0</td>\n",
       "      <td>366.0</td>\n",
       "      <td>2056.0</td>\n",
       "    </tr>\n",
       "    <tr>\n",
       "      <th>2011-01-31</th>\n",
       "      <td>0.0</td>\n",
       "      <td>1697.0</td>\n",
       "      <td>0.0</td>\n",
       "      <td>480.0</td>\n",
       "      <td>2625.0</td>\n",
       "    </tr>\n",
       "    <tr>\n",
       "      <th>2011-02-28</th>\n",
       "      <td>2.0</td>\n",
       "      <td>2505.0</td>\n",
       "      <td>0.0</td>\n",
       "      <td>66.0</td>\n",
       "      <td>2971.0</td>\n",
       "    </tr>\n",
       "    <tr>\n",
       "      <th>2011-03-31</th>\n",
       "      <td>85.0</td>\n",
       "      <td>2034.0</td>\n",
       "      <td>0.0</td>\n",
       "      <td>60.0</td>\n",
       "      <td>4924.0</td>\n",
       "    </tr>\n",
       "    <tr>\n",
       "      <th>2011-04-30</th>\n",
       "      <td>11.0</td>\n",
       "      <td>1801.0</td>\n",
       "      <td>0.0</td>\n",
       "      <td>1.0</td>\n",
       "      <td>2211.0</td>\n",
       "    </tr>\n",
       "    <tr>\n",
       "      <th>2011-05-31</th>\n",
       "      <td>12.0</td>\n",
       "      <td>6738.0</td>\n",
       "      <td>1097.0</td>\n",
       "      <td>0.0</td>\n",
       "      <td>3470.0</td>\n",
       "    </tr>\n",
       "    <tr>\n",
       "      <th>2011-06-30</th>\n",
       "      <td>337.0</td>\n",
       "      <td>1989.0</td>\n",
       "      <td>1621.0</td>\n",
       "      <td>1.0</td>\n",
       "      <td>3529.0</td>\n",
       "    </tr>\n",
       "    <tr>\n",
       "      <th>2011-07-31</th>\n",
       "      <td>374.0</td>\n",
       "      <td>1787.0</td>\n",
       "      <td>236.0</td>\n",
       "      <td>2.0</td>\n",
       "      <td>2970.0</td>\n",
       "    </tr>\n",
       "    <tr>\n",
       "      <th>2011-08-31</th>\n",
       "      <td>480.0</td>\n",
       "      <td>5286.0</td>\n",
       "      <td>1813.0</td>\n",
       "      <td>72.0</td>\n",
       "      <td>5278.0</td>\n",
       "    </tr>\n",
       "    <tr>\n",
       "      <th>2011-09-30</th>\n",
       "      <td>2064.0</td>\n",
       "      <td>3772.0</td>\n",
       "      <td>102.0</td>\n",
       "      <td>0.0</td>\n",
       "      <td>4177.0</td>\n",
       "    </tr>\n",
       "    <tr>\n",
       "      <th>2011-10-31</th>\n",
       "      <td>3243.0</td>\n",
       "      <td>5644.0</td>\n",
       "      <td>6249.0</td>\n",
       "      <td>11.0</td>\n",
       "      <td>5237.0</td>\n",
       "    </tr>\n",
       "    <tr>\n",
       "      <th>2011-11-30</th>\n",
       "      <td>5919.0</td>\n",
       "      <td>8458.0</td>\n",
       "      <td>12393.0</td>\n",
       "      <td>12551.0</td>\n",
       "      <td>5678.0</td>\n",
       "    </tr>\n",
       "    <tr>\n",
       "      <th>2011-12-31</th>\n",
       "      <td>1393.0</td>\n",
       "      <td>5362.0</td>\n",
       "      <td>3691.0</td>\n",
       "      <td>92.0</td>\n",
       "      <td>1055.0</td>\n",
       "    </tr>\n",
       "  </tbody>\n",
       "</table>\n",
       "</div>"
      ],
      "text/plain": [
       "StockCode     22086   22197    23084    84826  85099B\n",
       "InvoiceDate                                          \n",
       "2010-12-31   1697.0  2110.0      0.0    366.0  2056.0\n",
       "2011-01-31      0.0  1697.0      0.0    480.0  2625.0\n",
       "2011-02-28      2.0  2505.0      0.0     66.0  2971.0\n",
       "2011-03-31     85.0  2034.0      0.0     60.0  4924.0\n",
       "2011-04-30     11.0  1801.0      0.0      1.0  2211.0\n",
       "2011-05-31     12.0  6738.0   1097.0      0.0  3470.0\n",
       "2011-06-30    337.0  1989.0   1621.0      1.0  3529.0\n",
       "2011-07-31    374.0  1787.0    236.0      2.0  2970.0\n",
       "2011-08-31    480.0  5286.0   1813.0     72.0  5278.0\n",
       "2011-09-30   2064.0  3772.0    102.0      0.0  4177.0\n",
       "2011-10-31   3243.0  5644.0   6249.0     11.0  5237.0\n",
       "2011-11-30   5919.0  8458.0  12393.0  12551.0  5678.0\n",
       "2011-12-31   1393.0  5362.0   3691.0     92.0  1055.0"
      ]
     },
     "execution_count": 65,
     "metadata": {},
     "output_type": "execute_result"
    }
   ],
   "source": [
    "# Now let's generate a monthly trend of each of the top 5 items\n",
    "trending_itmes_df = date_item_df.reset_index().pivot('InvoiceDate','StockCode').fillna(0)\n",
    "\n",
    "trending_itmes_df = trending_itmes_df.reset_index()\n",
    "trending_itmes_df = trending_itmes_df.set_index('InvoiceDate')\n",
    "trending_itmes_df.columns = trending_itmes_df.columns.droplevel(0)\n",
    "trending_itmes_df"
   ]
  },
  {
   "cell_type": "code",
   "execution_count": 66,
   "id": "b5c96dda",
   "metadata": {},
   "outputs": [
    {
     "data": {
      "text/plain": [
       "Text(0, 0.5, 'number of purchases')"
      ]
     },
     "execution_count": 66,
     "metadata": {},
     "output_type": "execute_result"
    },
    {
     "data": {
      "text/plain": [
       "Text(0.5, 0, 'date')"
      ]
     },
     "execution_count": 66,
     "metadata": {},
     "output_type": "execute_result"
    },
    {
     "data": {
      "text/plain": [
       "Text(0.5, 1.0, 'Item Trends over Time')"
      ]
     },
     "execution_count": 66,
     "metadata": {},
     "output_type": "execute_result"
    },
    {
     "data": {
      "text/plain": [
       "<matplotlib.legend.Legend at 0x164d54933c8>"
      ]
     },
     "execution_count": 66,
     "metadata": {},
     "output_type": "execute_result"
    },
    {
     "data": {
      "text/plain": [
       "([<matplotlib.axis.XTick at 0x164d15340c8>,\n",
       "  <matplotlib.axis.XTick at 0x164d1534308>,\n",
       "  <matplotlib.axis.XTick at 0x164d54681c8>,\n",
       "  <matplotlib.axis.XTick at 0x164d5031688>,\n",
       "  <matplotlib.axis.XTick at 0x164d500afc8>,\n",
       "  <matplotlib.axis.XTick at 0x164d5031488>,\n",
       "  <matplotlib.axis.XTick at 0x164d2009e88>,\n",
       "  <matplotlib.axis.XTick at 0x164d54714c8>,\n",
       "  <matplotlib.axis.XTick at 0x164d5486708>,\n",
       "  <matplotlib.axis.XTick at 0x164d14a8f08>,\n",
       "  <matplotlib.axis.XTick at 0x164d553ed08>,\n",
       "  <matplotlib.axis.XTick at 0x164d5541608>,\n",
       "  <matplotlib.axis.XTick at 0x164d5543108>],\n",
       " [Text(0, 0, '12.2010'),\n",
       "  Text(0, 0, '01.2011'),\n",
       "  Text(0, 0, '02.2011'),\n",
       "  Text(0, 0, '03.2011'),\n",
       "  Text(0, 0, '04.2011'),\n",
       "  Text(0, 0, '05.2011'),\n",
       "  Text(0, 0, '06.2011'),\n",
       "  Text(0, 0, '07.2011'),\n",
       "  Text(0, 0, '08.2011'),\n",
       "  Text(0, 0, '09.2011'),\n",
       "  Text(0, 0, '10.2011'),\n",
       "  Text(0, 0, '11.2011'),\n",
       "  Text(0, 0, '12.2011')])"
      ]
     },
     "execution_count": 66,
     "metadata": {},
     "output_type": "execute_result"
    },
    {
     "data": {
      "image/png": "[encoded data removed]",
      "text/plain": [
       "<Figure size 864x576 with 1 Axes>"
      ]
     },
     "metadata": {},
     "output_type": "display_data"
    }
   ],
   "source": [
    "# Plot the above information\n",
    "ax = pd.DataFrame(trending_itmes_df.values).plot(figsize=(12,8), grid=True,)\n",
    "\n",
    "ax.set_ylabel('number of purchases')\n",
    "ax.set_xlabel('date')\n",
    "ax.set_title('Item Trends over Time')\n",
    "\n",
    "ax.legend(trending_itmes_df.columns, loc='upper left')\n",
    "\n",
    "plt.xticks(range(len(trending_itmes_df.index)), [x.strftime('%m.%Y') for x in trending_itmes_df.index], rotation=45)"
   ]
  },
  {
   "cell_type": "code",
   "execution_count": null,
   "id": "70658a5f",
   "metadata": {},
   "outputs": [],
   "source": []
  }
 ],
 "metadata": {
  "kernelspec": {
   "display_name": "Python 3",
   "language": "python",
   "name": "python3"
  },
  "language_info": {
   "codemirror_mode": {
    "name": "ipython",
    "version": 3
   },
   "file_extension": ".py",
   "mimetype": "text/x-python",
   "name": "python",
   "nbconvert_exporter": "python",
   "pygments_lexer": "ipython3",
   "version": "3.7.4"
  }
 },
 "nbformat": 4,
 "nbformat_minor": 5
}
